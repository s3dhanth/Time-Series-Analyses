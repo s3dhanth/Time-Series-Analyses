{
 "cells": [
  {
   "cell_type": "code",
   "execution_count": 1,
   "id": "1e4341e9",
   "metadata": {},
   "outputs": [],
   "source": [
    "import pandas as pd\n",
    "import numpy as np\n"
   ]
  },
  {
   "cell_type": "code",
   "execution_count": 163,
   "id": "35f70854",
   "metadata": {},
   "outputs": [
    {
     "data": {
      "text/html": [
       "<div>\n",
       "<style scoped>\n",
       "    .dataframe tbody tr th:only-of-type {\n",
       "        vertical-align: middle;\n",
       "    }\n",
       "\n",
       "    .dataframe tbody tr th {\n",
       "        vertical-align: top;\n",
       "    }\n",
       "\n",
       "    .dataframe thead th {\n",
       "        text-align: right;\n",
       "    }\n",
       "</style>\n",
       "<table border=\"1\" class=\"dataframe\">\n",
       "  <thead>\n",
       "    <tr style=\"text-align: right;\">\n",
       "      <th></th>\n",
       "      <th>Close/Last</th>\n",
       "      <th>Volume</th>\n",
       "      <th>Open</th>\n",
       "      <th>High</th>\n",
       "      <th>Low</th>\n",
       "    </tr>\n",
       "    <tr>\n",
       "      <th>Date</th>\n",
       "      <th></th>\n",
       "      <th></th>\n",
       "      <th></th>\n",
       "      <th></th>\n",
       "      <th></th>\n",
       "    </tr>\n",
       "  </thead>\n",
       "  <tbody>\n",
       "    <tr>\n",
       "      <th>2022-02-04</th>\n",
       "      <td>$172.39</td>\n",
       "      <td>82465400</td>\n",
       "      <td>$171.68</td>\n",
       "      <td>$174.1</td>\n",
       "      <td>$170.68</td>\n",
       "    </tr>\n",
       "    <tr>\n",
       "      <th>2022-02-03</th>\n",
       "      <td>$172.9</td>\n",
       "      <td>89418070</td>\n",
       "      <td>$174.48</td>\n",
       "      <td>$176.2399</td>\n",
       "      <td>$172.12</td>\n",
       "    </tr>\n",
       "    <tr>\n",
       "      <th>2022-02-02</th>\n",
       "      <td>$175.84</td>\n",
       "      <td>84914260</td>\n",
       "      <td>$174.745</td>\n",
       "      <td>$175.88</td>\n",
       "      <td>$173.33</td>\n",
       "    </tr>\n",
       "    <tr>\n",
       "      <th>2022-02-01</th>\n",
       "      <td>$174.61</td>\n",
       "      <td>86213910</td>\n",
       "      <td>$174.01</td>\n",
       "      <td>$174.84</td>\n",
       "      <td>$172.31</td>\n",
       "    </tr>\n",
       "    <tr>\n",
       "      <th>2022-01-31</th>\n",
       "      <td>$174.78</td>\n",
       "      <td>115541600</td>\n",
       "      <td>$170.16</td>\n",
       "      <td>$175</td>\n",
       "      <td>$169.51</td>\n",
       "    </tr>\n",
       "    <tr>\n",
       "      <th>...</th>\n",
       "      <td>...</td>\n",
       "      <td>...</td>\n",
       "      <td>...</td>\n",
       "      <td>...</td>\n",
       "      <td>...</td>\n",
       "    </tr>\n",
       "    <tr>\n",
       "      <th>2017-02-13</th>\n",
       "      <td>$33.3225</td>\n",
       "      <td>91959920</td>\n",
       "      <td>$33.27</td>\n",
       "      <td>$33.455</td>\n",
       "      <td>$33.1875</td>\n",
       "    </tr>\n",
       "    <tr>\n",
       "      <th>2017-02-10</th>\n",
       "      <td>$33.03</td>\n",
       "      <td>80185000</td>\n",
       "      <td>$33.115</td>\n",
       "      <td>$33.235</td>\n",
       "      <td>$33.0125</td>\n",
       "    </tr>\n",
       "    <tr>\n",
       "      <th>2017-02-09</th>\n",
       "      <td>$33.105</td>\n",
       "      <td>113285760</td>\n",
       "      <td>$32.9125</td>\n",
       "      <td>$33.1112</td>\n",
       "      <td>$32.78</td>\n",
       "    </tr>\n",
       "    <tr>\n",
       "      <th>2017-02-08</th>\n",
       "      <td>$33.01</td>\n",
       "      <td>91766600</td>\n",
       "      <td>$32.8375</td>\n",
       "      <td>$33.055</td>\n",
       "      <td>$32.805</td>\n",
       "    </tr>\n",
       "    <tr>\n",
       "      <th>2017-02-07</th>\n",
       "      <td>$32.8825</td>\n",
       "      <td>152633640</td>\n",
       "      <td>$32.635</td>\n",
       "      <td>$33.0225</td>\n",
       "      <td>$32.6125</td>\n",
       "    </tr>\n",
       "  </tbody>\n",
       "</table>\n",
       "<p>1259 rows × 5 columns</p>\n",
       "</div>"
      ],
      "text/plain": [
       "           Close/Last     Volume      Open       High       Low\n",
       "Date                                                           \n",
       "2022-02-04    $172.39   82465400   $171.68     $174.1   $170.68\n",
       "2022-02-03     $172.9   89418070   $174.48  $176.2399   $172.12\n",
       "2022-02-02    $175.84   84914260  $174.745    $175.88   $173.33\n",
       "2022-02-01    $174.61   86213910   $174.01    $174.84   $172.31\n",
       "2022-01-31    $174.78  115541600   $170.16       $175   $169.51\n",
       "...               ...        ...       ...        ...       ...\n",
       "2017-02-13   $33.3225   91959920    $33.27    $33.455  $33.1875\n",
       "2017-02-10     $33.03   80185000   $33.115    $33.235  $33.0125\n",
       "2017-02-09    $33.105  113285760  $32.9125   $33.1112    $32.78\n",
       "2017-02-08     $33.01   91766600  $32.8375    $33.055   $32.805\n",
       "2017-02-07   $32.8825  152633640   $32.635   $33.0225  $32.6125\n",
       "\n",
       "[1259 rows x 5 columns]"
      ]
     },
     "execution_count": 163,
     "metadata": {},
     "output_type": "execute_result"
    }
   ],
   "source": [
    "apple = pd.read_csv('appl.csv.csv' , parse_dates = ['Date'],index_col = 'Date')\n",
    "apple"
   ]
  },
  {
   "cell_type": "code",
   "execution_count": 164,
   "id": "5c265701",
   "metadata": {},
   "outputs": [
    {
     "data": {
      "text/plain": [
       "DatetimeIndex(['2022-02-04', '2022-02-03', '2022-02-02', '2022-02-01',\n",
       "               '2022-01-31', '2022-01-28', '2022-01-27', '2022-01-26',\n",
       "               '2022-01-25', '2022-01-24',\n",
       "               ...\n",
       "               '2017-02-21', '2017-02-17', '2017-02-16', '2017-02-15',\n",
       "               '2017-02-14', '2017-02-13', '2017-02-10', '2017-02-09',\n",
       "               '2017-02-08', '2017-02-07'],\n",
       "              dtype='datetime64[ns]', name='Date', length=1259, freq=None)"
      ]
     },
     "execution_count": 164,
     "metadata": {},
     "output_type": "execute_result"
    }
   ],
   "source": [
    "apple.index"
   ]
  },
  {
   "cell_type": "code",
   "execution_count": 165,
   "id": "50287159",
   "metadata": {},
   "outputs": [
    {
     "data": {
      "text/plain": [
       "2020-02-11    1\n",
       "2021-03-04    1\n",
       "2020-02-26    1\n",
       "2017-07-17    1\n",
       "2021-08-20    1\n",
       "             ..\n",
       "2022-01-06    1\n",
       "2017-06-13    1\n",
       "2021-03-19    1\n",
       "2018-12-06    1\n",
       "2017-10-30    1\n",
       "Name: Date, Length: 1259, dtype: int64"
      ]
     },
     "execution_count": 165,
     "metadata": {},
     "output_type": "execute_result"
    }
   ],
   "source": [
    "apple.index.value_counts()"
   ]
  },
  {
   "cell_type": "code",
   "execution_count": 166,
   "id": "9f141a46",
   "metadata": {},
   "outputs": [
    {
     "data": {
      "text/html": [
       "<div>\n",
       "<style scoped>\n",
       "    .dataframe tbody tr th:only-of-type {\n",
       "        vertical-align: middle;\n",
       "    }\n",
       "\n",
       "    .dataframe tbody tr th {\n",
       "        vertical-align: top;\n",
       "    }\n",
       "\n",
       "    .dataframe thead th {\n",
       "        text-align: right;\n",
       "    }\n",
       "</style>\n",
       "<table border=\"1\" class=\"dataframe\">\n",
       "  <thead>\n",
       "    <tr style=\"text-align: right;\">\n",
       "      <th></th>\n",
       "      <th>Close/Last</th>\n",
       "      <th>Volume</th>\n",
       "      <th>Open</th>\n",
       "      <th>High</th>\n",
       "      <th>Low</th>\n",
       "    </tr>\n",
       "    <tr>\n",
       "      <th>Date</th>\n",
       "      <th></th>\n",
       "      <th></th>\n",
       "      <th></th>\n",
       "      <th></th>\n",
       "      <th></th>\n",
       "    </tr>\n",
       "  </thead>\n",
       "  <tbody>\n",
       "    <tr>\n",
       "      <th>2022-02-04</th>\n",
       "      <td>$172.39</td>\n",
       "      <td>82465400</td>\n",
       "      <td>$171.68</td>\n",
       "      <td>$174.1</td>\n",
       "      <td>$170.68</td>\n",
       "    </tr>\n",
       "    <tr>\n",
       "      <th>2022-02-03</th>\n",
       "      <td>$172.9</td>\n",
       "      <td>89418070</td>\n",
       "      <td>$174.48</td>\n",
       "      <td>$176.2399</td>\n",
       "      <td>$172.12</td>\n",
       "    </tr>\n",
       "    <tr>\n",
       "      <th>2022-02-02</th>\n",
       "      <td>$175.84</td>\n",
       "      <td>84914260</td>\n",
       "      <td>$174.745</td>\n",
       "      <td>$175.88</td>\n",
       "      <td>$173.33</td>\n",
       "    </tr>\n",
       "    <tr>\n",
       "      <th>2022-02-01</th>\n",
       "      <td>$174.61</td>\n",
       "      <td>86213910</td>\n",
       "      <td>$174.01</td>\n",
       "      <td>$174.84</td>\n",
       "      <td>$172.31</td>\n",
       "    </tr>\n",
       "    <tr>\n",
       "      <th>2022-01-31</th>\n",
       "      <td>$174.78</td>\n",
       "      <td>115541600</td>\n",
       "      <td>$170.16</td>\n",
       "      <td>$175</td>\n",
       "      <td>$169.51</td>\n",
       "    </tr>\n",
       "    <tr>\n",
       "      <th>...</th>\n",
       "      <td>...</td>\n",
       "      <td>...</td>\n",
       "      <td>...</td>\n",
       "      <td>...</td>\n",
       "      <td>...</td>\n",
       "    </tr>\n",
       "    <tr>\n",
       "      <th>2017-02-13</th>\n",
       "      <td>$33.3225</td>\n",
       "      <td>91959920</td>\n",
       "      <td>$33.27</td>\n",
       "      <td>$33.455</td>\n",
       "      <td>$33.1875</td>\n",
       "    </tr>\n",
       "    <tr>\n",
       "      <th>2017-02-10</th>\n",
       "      <td>$33.03</td>\n",
       "      <td>80185000</td>\n",
       "      <td>$33.115</td>\n",
       "      <td>$33.235</td>\n",
       "      <td>$33.0125</td>\n",
       "    </tr>\n",
       "    <tr>\n",
       "      <th>2017-02-09</th>\n",
       "      <td>$33.105</td>\n",
       "      <td>113285760</td>\n",
       "      <td>$32.9125</td>\n",
       "      <td>$33.1112</td>\n",
       "      <td>$32.78</td>\n",
       "    </tr>\n",
       "    <tr>\n",
       "      <th>2017-02-08</th>\n",
       "      <td>$33.01</td>\n",
       "      <td>91766600</td>\n",
       "      <td>$32.8375</td>\n",
       "      <td>$33.055</td>\n",
       "      <td>$32.805</td>\n",
       "    </tr>\n",
       "    <tr>\n",
       "      <th>2017-02-07</th>\n",
       "      <td>$32.8825</td>\n",
       "      <td>152633640</td>\n",
       "      <td>$32.635</td>\n",
       "      <td>$33.0225</td>\n",
       "      <td>$32.6125</td>\n",
       "    </tr>\n",
       "  </tbody>\n",
       "</table>\n",
       "<p>1259 rows × 5 columns</p>\n",
       "</div>"
      ],
      "text/plain": [
       "           Close/Last     Volume      Open       High       Low\n",
       "Date                                                           \n",
       "2022-02-04    $172.39   82465400   $171.68     $174.1   $170.68\n",
       "2022-02-03     $172.9   89418070   $174.48  $176.2399   $172.12\n",
       "2022-02-02    $175.84   84914260  $174.745    $175.88   $173.33\n",
       "2022-02-01    $174.61   86213910   $174.01    $174.84   $172.31\n",
       "2022-01-31    $174.78  115541600   $170.16       $175   $169.51\n",
       "...               ...        ...       ...        ...       ...\n",
       "2017-02-13   $33.3225   91959920    $33.27    $33.455  $33.1875\n",
       "2017-02-10     $33.03   80185000   $33.115    $33.235  $33.0125\n",
       "2017-02-09    $33.105  113285760  $32.9125   $33.1112    $32.78\n",
       "2017-02-08     $33.01   91766600  $32.8375    $33.055   $32.805\n",
       "2017-02-07   $32.8825  152633640   $32.635   $33.0225  $32.6125\n",
       "\n",
       "[1259 rows x 5 columns]"
      ]
     },
     "execution_count": 166,
     "metadata": {},
     "output_type": "execute_result"
    }
   ],
   "source": [
    "apple"
   ]
  },
  {
   "cell_type": "code",
   "execution_count": 167,
   "id": "25ae3088",
   "metadata": {},
   "outputs": [
    {
     "data": {
      "text/html": [
       "<div>\n",
       "<style scoped>\n",
       "    .dataframe tbody tr th:only-of-type {\n",
       "        vertical-align: middle;\n",
       "    }\n",
       "\n",
       "    .dataframe tbody tr th {\n",
       "        vertical-align: top;\n",
       "    }\n",
       "\n",
       "    .dataframe thead th {\n",
       "        text-align: right;\n",
       "    }\n",
       "</style>\n",
       "<table border=\"1\" class=\"dataframe\">\n",
       "  <thead>\n",
       "    <tr style=\"text-align: right;\">\n",
       "      <th></th>\n",
       "      <th>Close/Last</th>\n",
       "      <th>Volume</th>\n",
       "      <th>Open</th>\n",
       "      <th>High</th>\n",
       "      <th>Low</th>\n",
       "    </tr>\n",
       "    <tr>\n",
       "      <th>Date</th>\n",
       "      <th></th>\n",
       "      <th></th>\n",
       "      <th></th>\n",
       "      <th></th>\n",
       "      <th></th>\n",
       "    </tr>\n",
       "  </thead>\n",
       "  <tbody>\n",
       "    <tr>\n",
       "      <th>2021-02-26</th>\n",
       "      <td>$121.26</td>\n",
       "      <td>164560400</td>\n",
       "      <td>$122.59</td>\n",
       "      <td>$124.85</td>\n",
       "      <td>$121.2</td>\n",
       "    </tr>\n",
       "    <tr>\n",
       "      <th>2021-02-25</th>\n",
       "      <td>$120.99</td>\n",
       "      <td>148199500</td>\n",
       "      <td>$124.68</td>\n",
       "      <td>$126.4585</td>\n",
       "      <td>$120.54</td>\n",
       "    </tr>\n",
       "    <tr>\n",
       "      <th>2021-02-24</th>\n",
       "      <td>$125.35</td>\n",
       "      <td>111039900</td>\n",
       "      <td>$124.94</td>\n",
       "      <td>$125.56</td>\n",
       "      <td>$122.23</td>\n",
       "    </tr>\n",
       "    <tr>\n",
       "      <th>2021-02-23</th>\n",
       "      <td>$125.86</td>\n",
       "      <td>158273000</td>\n",
       "      <td>$123.76</td>\n",
       "      <td>$126.71</td>\n",
       "      <td>$118.39</td>\n",
       "    </tr>\n",
       "    <tr>\n",
       "      <th>2021-02-22</th>\n",
       "      <td>$126</td>\n",
       "      <td>103916400</td>\n",
       "      <td>$128.01</td>\n",
       "      <td>$129.72</td>\n",
       "      <td>$125.6</td>\n",
       "    </tr>\n",
       "    <tr>\n",
       "      <th>2021-02-19</th>\n",
       "      <td>$129.87</td>\n",
       "      <td>87668830</td>\n",
       "      <td>$130.24</td>\n",
       "      <td>$130.71</td>\n",
       "      <td>$128.8</td>\n",
       "    </tr>\n",
       "    <tr>\n",
       "      <th>2021-02-18</th>\n",
       "      <td>$129.71</td>\n",
       "      <td>96856750</td>\n",
       "      <td>$129.2</td>\n",
       "      <td>$129.995</td>\n",
       "      <td>$127.41</td>\n",
       "    </tr>\n",
       "    <tr>\n",
       "      <th>2021-02-17</th>\n",
       "      <td>$130.84</td>\n",
       "      <td>98085250</td>\n",
       "      <td>$131.25</td>\n",
       "      <td>$132.22</td>\n",
       "      <td>$129.47</td>\n",
       "    </tr>\n",
       "    <tr>\n",
       "      <th>2021-02-16</th>\n",
       "      <td>$133.19</td>\n",
       "      <td>80576320</td>\n",
       "      <td>$135.49</td>\n",
       "      <td>$136.01</td>\n",
       "      <td>$132.79</td>\n",
       "    </tr>\n",
       "    <tr>\n",
       "      <th>2021-02-12</th>\n",
       "      <td>$135.37</td>\n",
       "      <td>60145130</td>\n",
       "      <td>$134.35</td>\n",
       "      <td>$135.53</td>\n",
       "      <td>$133.6921</td>\n",
       "    </tr>\n",
       "    <tr>\n",
       "      <th>2021-02-11</th>\n",
       "      <td>$135.13</td>\n",
       "      <td>64280030</td>\n",
       "      <td>$135.9</td>\n",
       "      <td>$136.39</td>\n",
       "      <td>$133.77</td>\n",
       "    </tr>\n",
       "    <tr>\n",
       "      <th>2021-02-10</th>\n",
       "      <td>$135.39</td>\n",
       "      <td>73046560</td>\n",
       "      <td>$136.48</td>\n",
       "      <td>$136.99</td>\n",
       "      <td>$134.4</td>\n",
       "    </tr>\n",
       "    <tr>\n",
       "      <th>2021-02-09</th>\n",
       "      <td>$136.01</td>\n",
       "      <td>76774210</td>\n",
       "      <td>$136.62</td>\n",
       "      <td>$137.877</td>\n",
       "      <td>$135.85</td>\n",
       "    </tr>\n",
       "    <tr>\n",
       "      <th>2021-02-08</th>\n",
       "      <td>$136.91</td>\n",
       "      <td>71297210</td>\n",
       "      <td>$136.03</td>\n",
       "      <td>$136.96</td>\n",
       "      <td>$134.92</td>\n",
       "    </tr>\n",
       "    <tr>\n",
       "      <th>2021-02-05</th>\n",
       "      <td>$136.76</td>\n",
       "      <td>75693830</td>\n",
       "      <td>$137.35</td>\n",
       "      <td>$137.42</td>\n",
       "      <td>$135.86</td>\n",
       "    </tr>\n",
       "    <tr>\n",
       "      <th>2021-02-04</th>\n",
       "      <td>$137.39</td>\n",
       "      <td>84183060</td>\n",
       "      <td>$136.3</td>\n",
       "      <td>$137.4</td>\n",
       "      <td>$134.59</td>\n",
       "    </tr>\n",
       "    <tr>\n",
       "      <th>2021-02-03</th>\n",
       "      <td>$133.94</td>\n",
       "      <td>89880940</td>\n",
       "      <td>$135.76</td>\n",
       "      <td>$135.77</td>\n",
       "      <td>$133.61</td>\n",
       "    </tr>\n",
       "    <tr>\n",
       "      <th>2021-02-02</th>\n",
       "      <td>$134.99</td>\n",
       "      <td>83305370</td>\n",
       "      <td>$135.73</td>\n",
       "      <td>$136.31</td>\n",
       "      <td>$134.61</td>\n",
       "    </tr>\n",
       "    <tr>\n",
       "      <th>2021-02-01</th>\n",
       "      <td>$134.14</td>\n",
       "      <td>106239800</td>\n",
       "      <td>$133.75</td>\n",
       "      <td>$135.38</td>\n",
       "      <td>$130.93</td>\n",
       "    </tr>\n",
       "  </tbody>\n",
       "</table>\n",
       "</div>"
      ],
      "text/plain": [
       "           Close/Last     Volume     Open       High        Low\n",
       "Date                                                           \n",
       "2021-02-26    $121.26  164560400  $122.59    $124.85     $121.2\n",
       "2021-02-25    $120.99  148199500  $124.68  $126.4585    $120.54\n",
       "2021-02-24    $125.35  111039900  $124.94    $125.56    $122.23\n",
       "2021-02-23    $125.86  158273000  $123.76    $126.71    $118.39\n",
       "2021-02-22       $126  103916400  $128.01    $129.72     $125.6\n",
       "2021-02-19    $129.87   87668830  $130.24    $130.71     $128.8\n",
       "2021-02-18    $129.71   96856750   $129.2   $129.995    $127.41\n",
       "2021-02-17    $130.84   98085250  $131.25    $132.22    $129.47\n",
       "2021-02-16    $133.19   80576320  $135.49    $136.01    $132.79\n",
       "2021-02-12    $135.37   60145130  $134.35    $135.53  $133.6921\n",
       "2021-02-11    $135.13   64280030   $135.9    $136.39    $133.77\n",
       "2021-02-10    $135.39   73046560  $136.48    $136.99     $134.4\n",
       "2021-02-09    $136.01   76774210  $136.62   $137.877    $135.85\n",
       "2021-02-08    $136.91   71297210  $136.03    $136.96    $134.92\n",
       "2021-02-05    $136.76   75693830  $137.35    $137.42    $135.86\n",
       "2021-02-04    $137.39   84183060   $136.3     $137.4    $134.59\n",
       "2021-02-03    $133.94   89880940  $135.76    $135.77    $133.61\n",
       "2021-02-02    $134.99   83305370  $135.73    $136.31    $134.61\n",
       "2021-02-01    $134.14  106239800  $133.75    $135.38    $130.93"
      ]
     },
     "execution_count": 167,
     "metadata": {},
     "output_type": "execute_result"
    }
   ],
   "source": [
    "apple['2021-02' :'2021-02']"
   ]
  },
  {
   "cell_type": "code",
   "execution_count": 168,
   "id": "c768a65f",
   "metadata": {},
   "outputs": [],
   "source": [
    "apple = apple.iloc[::-1]"
   ]
  },
  {
   "cell_type": "code",
   "execution_count": 169,
   "id": "129b85e6",
   "metadata": {},
   "outputs": [
    {
     "name": "stderr",
     "output_type": "stream",
     "text": [
      "<ipython-input-169-81368c93c637>:1: FutureWarning: Indexing a DataFrame with a datetimelike index using a single string to slice the rows, like `frame[string]`, is deprecated and will be removed in a future version. Use `frame.loc[string]` instead.\n",
      "  apple['2021-02']\n"
     ]
    },
    {
     "data": {
      "text/html": [
       "<div>\n",
       "<style scoped>\n",
       "    .dataframe tbody tr th:only-of-type {\n",
       "        vertical-align: middle;\n",
       "    }\n",
       "\n",
       "    .dataframe tbody tr th {\n",
       "        vertical-align: top;\n",
       "    }\n",
       "\n",
       "    .dataframe thead th {\n",
       "        text-align: right;\n",
       "    }\n",
       "</style>\n",
       "<table border=\"1\" class=\"dataframe\">\n",
       "  <thead>\n",
       "    <tr style=\"text-align: right;\">\n",
       "      <th></th>\n",
       "      <th>Close/Last</th>\n",
       "      <th>Volume</th>\n",
       "      <th>Open</th>\n",
       "      <th>High</th>\n",
       "      <th>Low</th>\n",
       "    </tr>\n",
       "    <tr>\n",
       "      <th>Date</th>\n",
       "      <th></th>\n",
       "      <th></th>\n",
       "      <th></th>\n",
       "      <th></th>\n",
       "      <th></th>\n",
       "    </tr>\n",
       "  </thead>\n",
       "  <tbody>\n",
       "    <tr>\n",
       "      <th>2021-02-01</th>\n",
       "      <td>$134.14</td>\n",
       "      <td>106239800</td>\n",
       "      <td>$133.75</td>\n",
       "      <td>$135.38</td>\n",
       "      <td>$130.93</td>\n",
       "    </tr>\n",
       "    <tr>\n",
       "      <th>2021-02-02</th>\n",
       "      <td>$134.99</td>\n",
       "      <td>83305370</td>\n",
       "      <td>$135.73</td>\n",
       "      <td>$136.31</td>\n",
       "      <td>$134.61</td>\n",
       "    </tr>\n",
       "    <tr>\n",
       "      <th>2021-02-03</th>\n",
       "      <td>$133.94</td>\n",
       "      <td>89880940</td>\n",
       "      <td>$135.76</td>\n",
       "      <td>$135.77</td>\n",
       "      <td>$133.61</td>\n",
       "    </tr>\n",
       "    <tr>\n",
       "      <th>2021-02-04</th>\n",
       "      <td>$137.39</td>\n",
       "      <td>84183060</td>\n",
       "      <td>$136.3</td>\n",
       "      <td>$137.4</td>\n",
       "      <td>$134.59</td>\n",
       "    </tr>\n",
       "    <tr>\n",
       "      <th>2021-02-05</th>\n",
       "      <td>$136.76</td>\n",
       "      <td>75693830</td>\n",
       "      <td>$137.35</td>\n",
       "      <td>$137.42</td>\n",
       "      <td>$135.86</td>\n",
       "    </tr>\n",
       "    <tr>\n",
       "      <th>2021-02-08</th>\n",
       "      <td>$136.91</td>\n",
       "      <td>71297210</td>\n",
       "      <td>$136.03</td>\n",
       "      <td>$136.96</td>\n",
       "      <td>$134.92</td>\n",
       "    </tr>\n",
       "    <tr>\n",
       "      <th>2021-02-09</th>\n",
       "      <td>$136.01</td>\n",
       "      <td>76774210</td>\n",
       "      <td>$136.62</td>\n",
       "      <td>$137.877</td>\n",
       "      <td>$135.85</td>\n",
       "    </tr>\n",
       "    <tr>\n",
       "      <th>2021-02-10</th>\n",
       "      <td>$135.39</td>\n",
       "      <td>73046560</td>\n",
       "      <td>$136.48</td>\n",
       "      <td>$136.99</td>\n",
       "      <td>$134.4</td>\n",
       "    </tr>\n",
       "    <tr>\n",
       "      <th>2021-02-11</th>\n",
       "      <td>$135.13</td>\n",
       "      <td>64280030</td>\n",
       "      <td>$135.9</td>\n",
       "      <td>$136.39</td>\n",
       "      <td>$133.77</td>\n",
       "    </tr>\n",
       "    <tr>\n",
       "      <th>2021-02-12</th>\n",
       "      <td>$135.37</td>\n",
       "      <td>60145130</td>\n",
       "      <td>$134.35</td>\n",
       "      <td>$135.53</td>\n",
       "      <td>$133.6921</td>\n",
       "    </tr>\n",
       "    <tr>\n",
       "      <th>2021-02-16</th>\n",
       "      <td>$133.19</td>\n",
       "      <td>80576320</td>\n",
       "      <td>$135.49</td>\n",
       "      <td>$136.01</td>\n",
       "      <td>$132.79</td>\n",
       "    </tr>\n",
       "    <tr>\n",
       "      <th>2021-02-17</th>\n",
       "      <td>$130.84</td>\n",
       "      <td>98085250</td>\n",
       "      <td>$131.25</td>\n",
       "      <td>$132.22</td>\n",
       "      <td>$129.47</td>\n",
       "    </tr>\n",
       "    <tr>\n",
       "      <th>2021-02-18</th>\n",
       "      <td>$129.71</td>\n",
       "      <td>96856750</td>\n",
       "      <td>$129.2</td>\n",
       "      <td>$129.995</td>\n",
       "      <td>$127.41</td>\n",
       "    </tr>\n",
       "    <tr>\n",
       "      <th>2021-02-19</th>\n",
       "      <td>$129.87</td>\n",
       "      <td>87668830</td>\n",
       "      <td>$130.24</td>\n",
       "      <td>$130.71</td>\n",
       "      <td>$128.8</td>\n",
       "    </tr>\n",
       "    <tr>\n",
       "      <th>2021-02-22</th>\n",
       "      <td>$126</td>\n",
       "      <td>103916400</td>\n",
       "      <td>$128.01</td>\n",
       "      <td>$129.72</td>\n",
       "      <td>$125.6</td>\n",
       "    </tr>\n",
       "    <tr>\n",
       "      <th>2021-02-23</th>\n",
       "      <td>$125.86</td>\n",
       "      <td>158273000</td>\n",
       "      <td>$123.76</td>\n",
       "      <td>$126.71</td>\n",
       "      <td>$118.39</td>\n",
       "    </tr>\n",
       "    <tr>\n",
       "      <th>2021-02-24</th>\n",
       "      <td>$125.35</td>\n",
       "      <td>111039900</td>\n",
       "      <td>$124.94</td>\n",
       "      <td>$125.56</td>\n",
       "      <td>$122.23</td>\n",
       "    </tr>\n",
       "    <tr>\n",
       "      <th>2021-02-25</th>\n",
       "      <td>$120.99</td>\n",
       "      <td>148199500</td>\n",
       "      <td>$124.68</td>\n",
       "      <td>$126.4585</td>\n",
       "      <td>$120.54</td>\n",
       "    </tr>\n",
       "    <tr>\n",
       "      <th>2021-02-26</th>\n",
       "      <td>$121.26</td>\n",
       "      <td>164560400</td>\n",
       "      <td>$122.59</td>\n",
       "      <td>$124.85</td>\n",
       "      <td>$121.2</td>\n",
       "    </tr>\n",
       "  </tbody>\n",
       "</table>\n",
       "</div>"
      ],
      "text/plain": [
       "           Close/Last     Volume     Open       High        Low\n",
       "Date                                                           \n",
       "2021-02-01    $134.14  106239800  $133.75    $135.38    $130.93\n",
       "2021-02-02    $134.99   83305370  $135.73    $136.31    $134.61\n",
       "2021-02-03    $133.94   89880940  $135.76    $135.77    $133.61\n",
       "2021-02-04    $137.39   84183060   $136.3     $137.4    $134.59\n",
       "2021-02-05    $136.76   75693830  $137.35    $137.42    $135.86\n",
       "2021-02-08    $136.91   71297210  $136.03    $136.96    $134.92\n",
       "2021-02-09    $136.01   76774210  $136.62   $137.877    $135.85\n",
       "2021-02-10    $135.39   73046560  $136.48    $136.99     $134.4\n",
       "2021-02-11    $135.13   64280030   $135.9    $136.39    $133.77\n",
       "2021-02-12    $135.37   60145130  $134.35    $135.53  $133.6921\n",
       "2021-02-16    $133.19   80576320  $135.49    $136.01    $132.79\n",
       "2021-02-17    $130.84   98085250  $131.25    $132.22    $129.47\n",
       "2021-02-18    $129.71   96856750   $129.2   $129.995    $127.41\n",
       "2021-02-19    $129.87   87668830  $130.24    $130.71     $128.8\n",
       "2021-02-22       $126  103916400  $128.01    $129.72     $125.6\n",
       "2021-02-23    $125.86  158273000  $123.76    $126.71    $118.39\n",
       "2021-02-24    $125.35  111039900  $124.94    $125.56    $122.23\n",
       "2021-02-25    $120.99  148199500  $124.68  $126.4585    $120.54\n",
       "2021-02-26    $121.26  164560400  $122.59    $124.85     $121.2"
      ]
     },
     "execution_count": 169,
     "metadata": {},
     "output_type": "execute_result"
    }
   ],
   "source": [
    "apple['2021-02']"
   ]
  },
  {
   "cell_type": "code",
   "execution_count": 170,
   "id": "ab073f73",
   "metadata": {},
   "outputs": [
    {
     "ename": "AttributeError",
     "evalue": "'DataFrame' object has no attribute 'Close'",
     "output_type": "error",
     "traceback": [
      "\u001b[1;31m---------------------------------------------------------------------------\u001b[0m",
      "\u001b[1;31mAttributeError\u001b[0m                            Traceback (most recent call last)",
      "\u001b[1;32m<ipython-input-170-a7d6e01f7c18>\u001b[0m in \u001b[0;36m<module>\u001b[1;34m\u001b[0m\n\u001b[1;32m----> 1\u001b[1;33m \u001b[0mapple\u001b[0m\u001b[1;33m.\u001b[0m\u001b[0mClose\u001b[0m\u001b[1;33m/\u001b[0m\u001b[0mlast\u001b[0m\u001b[1;33m.\u001b[0m\u001b[0mresample\u001b[0m\u001b[1;33m(\u001b[0m\u001b[1;34m'M'\u001b[0m\u001b[1;33m)\u001b[0m\u001b[1;33m.\u001b[0m\u001b[0mmean\u001b[0m\u001b[1;33m(\u001b[0m\u001b[1;33m)\u001b[0m\u001b[1;33m\u001b[0m\u001b[1;33m\u001b[0m\u001b[0m\n\u001b[0m",
      "\u001b[1;32m~\\anaconda3\\lib\\site-packages\\pandas\\core\\generic.py\u001b[0m in \u001b[0;36m__getattr__\u001b[1;34m(self, name)\u001b[0m\n\u001b[0;32m   5463\u001b[0m             \u001b[1;32mif\u001b[0m \u001b[0mself\u001b[0m\u001b[1;33m.\u001b[0m\u001b[0m_info_axis\u001b[0m\u001b[1;33m.\u001b[0m\u001b[0m_can_hold_identifiers_and_holds_name\u001b[0m\u001b[1;33m(\u001b[0m\u001b[0mname\u001b[0m\u001b[1;33m)\u001b[0m\u001b[1;33m:\u001b[0m\u001b[1;33m\u001b[0m\u001b[1;33m\u001b[0m\u001b[0m\n\u001b[0;32m   5464\u001b[0m                 \u001b[1;32mreturn\u001b[0m \u001b[0mself\u001b[0m\u001b[1;33m[\u001b[0m\u001b[0mname\u001b[0m\u001b[1;33m]\u001b[0m\u001b[1;33m\u001b[0m\u001b[1;33m\u001b[0m\u001b[0m\n\u001b[1;32m-> 5465\u001b[1;33m             \u001b[1;32mreturn\u001b[0m \u001b[0mobject\u001b[0m\u001b[1;33m.\u001b[0m\u001b[0m__getattribute__\u001b[0m\u001b[1;33m(\u001b[0m\u001b[0mself\u001b[0m\u001b[1;33m,\u001b[0m \u001b[0mname\u001b[0m\u001b[1;33m)\u001b[0m\u001b[1;33m\u001b[0m\u001b[1;33m\u001b[0m\u001b[0m\n\u001b[0m\u001b[0;32m   5466\u001b[0m \u001b[1;33m\u001b[0m\u001b[0m\n\u001b[0;32m   5467\u001b[0m     \u001b[1;32mdef\u001b[0m \u001b[0m__setattr__\u001b[0m\u001b[1;33m(\u001b[0m\u001b[0mself\u001b[0m\u001b[1;33m,\u001b[0m \u001b[0mname\u001b[0m\u001b[1;33m:\u001b[0m \u001b[0mstr\u001b[0m\u001b[1;33m,\u001b[0m \u001b[0mvalue\u001b[0m\u001b[1;33m)\u001b[0m \u001b[1;33m->\u001b[0m \u001b[1;32mNone\u001b[0m\u001b[1;33m:\u001b[0m\u001b[1;33m\u001b[0m\u001b[1;33m\u001b[0m\u001b[0m\n",
      "\u001b[1;31mAttributeError\u001b[0m: 'DataFrame' object has no attribute 'Close'"
     ]
    }
   ],
   "source": [
    "apple.Close/last.resample('M').mean()"
   ]
  },
  {
   "cell_type": "code",
   "execution_count": 171,
   "id": "9ad1cbdf",
   "metadata": {},
   "outputs": [],
   "source": [
    "apple.columns = ['close','volume','open','high','low']"
   ]
  },
  {
   "cell_type": "code",
   "execution_count": 172,
   "id": "499d848a",
   "metadata": {},
   "outputs": [
    {
     "data": {
      "text/html": [
       "<div>\n",
       "<style scoped>\n",
       "    .dataframe tbody tr th:only-of-type {\n",
       "        vertical-align: middle;\n",
       "    }\n",
       "\n",
       "    .dataframe tbody tr th {\n",
       "        vertical-align: top;\n",
       "    }\n",
       "\n",
       "    .dataframe thead th {\n",
       "        text-align: right;\n",
       "    }\n",
       "</style>\n",
       "<table border=\"1\" class=\"dataframe\">\n",
       "  <thead>\n",
       "    <tr style=\"text-align: right;\">\n",
       "      <th></th>\n",
       "      <th>volume</th>\n",
       "    </tr>\n",
       "    <tr>\n",
       "      <th>Date</th>\n",
       "      <th></th>\n",
       "    </tr>\n",
       "  </thead>\n",
       "  <tbody>\n",
       "    <tr>\n",
       "      <th>2017-02-28</th>\n",
       "      <td>1.005962e+08</td>\n",
       "    </tr>\n",
       "    <tr>\n",
       "      <th>2017-03-31</th>\n",
       "      <td>9.739645e+07</td>\n",
       "    </tr>\n",
       "    <tr>\n",
       "      <th>2017-04-30</th>\n",
       "      <td>7.834377e+07</td>\n",
       "    </tr>\n",
       "    <tr>\n",
       "      <th>2017-05-31</th>\n",
       "      <td>1.184847e+08</td>\n",
       "    </tr>\n",
       "    <tr>\n",
       "      <th>2017-06-30</th>\n",
       "      <td>1.240499e+08</td>\n",
       "    </tr>\n",
       "    <tr>\n",
       "      <th>...</th>\n",
       "      <td>...</td>\n",
       "    </tr>\n",
       "    <tr>\n",
       "      <th>2021-10-31</th>\n",
       "      <td>7.452758e+07</td>\n",
       "    </tr>\n",
       "    <tr>\n",
       "      <th>2021-11-30</th>\n",
       "      <td>8.052519e+07</td>\n",
       "    </tr>\n",
       "    <tr>\n",
       "      <th>2021-12-31</th>\n",
       "      <td>1.111649e+08</td>\n",
       "    </tr>\n",
       "    <tr>\n",
       "      <th>2022-01-31</th>\n",
       "      <td>1.054642e+08</td>\n",
       "    </tr>\n",
       "    <tr>\n",
       "      <th>2022-02-28</th>\n",
       "      <td>8.575291e+07</td>\n",
       "    </tr>\n",
       "  </tbody>\n",
       "</table>\n",
       "<p>61 rows × 1 columns</p>\n",
       "</div>"
      ],
      "text/plain": [
       "                  volume\n",
       "Date                    \n",
       "2017-02-28  1.005962e+08\n",
       "2017-03-31  9.739645e+07\n",
       "2017-04-30  7.834377e+07\n",
       "2017-05-31  1.184847e+08\n",
       "2017-06-30  1.240499e+08\n",
       "...                  ...\n",
       "2021-10-31  7.452758e+07\n",
       "2021-11-30  8.052519e+07\n",
       "2021-12-31  1.111649e+08\n",
       "2022-01-31  1.054642e+08\n",
       "2022-02-28  8.575291e+07\n",
       "\n",
       "[61 rows x 1 columns]"
      ]
     },
     "execution_count": 172,
     "metadata": {},
     "output_type": "execute_result"
    }
   ],
   "source": [
    "apple.resample('M').mean()"
   ]
  },
  {
   "cell_type": "code",
   "execution_count": 173,
   "id": "291c4498",
   "metadata": {},
   "outputs": [
    {
     "ename": "TypeError",
     "evalue": "Could not convert $134.14$134.99$133.94$137.39$136.76$136.91$136.01$135.39$135.13$135.37$133.19$130.84$129.71$129.87$126$125.86$125.35$120.99$121.26 to numeric",
     "output_type": "error",
     "traceback": [
      "\u001b[1;31m---------------------------------------------------------------------------\u001b[0m",
      "\u001b[1;31mValueError\u001b[0m                                Traceback (most recent call last)",
      "\u001b[1;32m~\\anaconda3\\lib\\site-packages\\pandas\\core\\nanops.py\u001b[0m in \u001b[0;36m_ensure_numeric\u001b[1;34m(x)\u001b[0m\n\u001b[0;32m   1536\u001b[0m         \u001b[1;32mtry\u001b[0m\u001b[1;33m:\u001b[0m\u001b[1;33m\u001b[0m\u001b[1;33m\u001b[0m\u001b[0m\n\u001b[1;32m-> 1537\u001b[1;33m             \u001b[0mx\u001b[0m \u001b[1;33m=\u001b[0m \u001b[0mfloat\u001b[0m\u001b[1;33m(\u001b[0m\u001b[0mx\u001b[0m\u001b[1;33m)\u001b[0m\u001b[1;33m\u001b[0m\u001b[1;33m\u001b[0m\u001b[0m\n\u001b[0m\u001b[0;32m   1538\u001b[0m         \u001b[1;32mexcept\u001b[0m \u001b[0mValueError\u001b[0m\u001b[1;33m:\u001b[0m\u001b[1;33m\u001b[0m\u001b[1;33m\u001b[0m\u001b[0m\n",
      "\u001b[1;31mValueError\u001b[0m: could not convert string to float: '$134.14$134.99$133.94$137.39$136.76$136.91$136.01$135.39$135.13$135.37$133.19$130.84$129.71$129.87$126$125.86$125.35$120.99$121.26'",
      "\nDuring handling of the above exception, another exception occurred:\n",
      "\u001b[1;31mValueError\u001b[0m                                Traceback (most recent call last)",
      "\u001b[1;32m~\\anaconda3\\lib\\site-packages\\pandas\\core\\nanops.py\u001b[0m in \u001b[0;36m_ensure_numeric\u001b[1;34m(x)\u001b[0m\n\u001b[0;32m   1540\u001b[0m             \u001b[1;32mtry\u001b[0m\u001b[1;33m:\u001b[0m\u001b[1;33m\u001b[0m\u001b[1;33m\u001b[0m\u001b[0m\n\u001b[1;32m-> 1541\u001b[1;33m                 \u001b[0mx\u001b[0m \u001b[1;33m=\u001b[0m \u001b[0mcomplex\u001b[0m\u001b[1;33m(\u001b[0m\u001b[0mx\u001b[0m\u001b[1;33m)\u001b[0m\u001b[1;33m\u001b[0m\u001b[1;33m\u001b[0m\u001b[0m\n\u001b[0m\u001b[0;32m   1542\u001b[0m             \u001b[1;32mexcept\u001b[0m \u001b[0mValueError\u001b[0m \u001b[1;32mas\u001b[0m \u001b[0merr\u001b[0m\u001b[1;33m:\u001b[0m\u001b[1;33m\u001b[0m\u001b[1;33m\u001b[0m\u001b[0m\n",
      "\u001b[1;31mValueError\u001b[0m: complex() arg is a malformed string",
      "\nThe above exception was the direct cause of the following exception:\n",
      "\u001b[1;31mTypeError\u001b[0m                                 Traceback (most recent call last)",
      "\u001b[1;32m<ipython-input-173-d567f70a3604>\u001b[0m in \u001b[0;36m<module>\u001b[1;34m\u001b[0m\n\u001b[1;32m----> 1\u001b[1;33m \u001b[0mapple\u001b[0m\u001b[1;33m.\u001b[0m\u001b[0mclose\u001b[0m\u001b[1;33m[\u001b[0m\u001b[1;34m'2021-02'\u001b[0m\u001b[1;33m]\u001b[0m\u001b[1;33m.\u001b[0m\u001b[0mmean\u001b[0m\u001b[1;33m(\u001b[0m\u001b[1;33m)\u001b[0m\u001b[1;33m\u001b[0m\u001b[1;33m\u001b[0m\u001b[0m\n\u001b[0m",
      "\u001b[1;32m~\\anaconda3\\lib\\site-packages\\pandas\\core\\generic.py\u001b[0m in \u001b[0;36mmean\u001b[1;34m(self, axis, skipna, level, numeric_only, **kwargs)\u001b[0m\n\u001b[0;32m  11116\u001b[0m         )\n\u001b[0;32m  11117\u001b[0m         \u001b[1;32mdef\u001b[0m \u001b[0mmean\u001b[0m\u001b[1;33m(\u001b[0m\u001b[0mself\u001b[0m\u001b[1;33m,\u001b[0m \u001b[0maxis\u001b[0m\u001b[1;33m=\u001b[0m\u001b[1;32mNone\u001b[0m\u001b[1;33m,\u001b[0m \u001b[0mskipna\u001b[0m\u001b[1;33m=\u001b[0m\u001b[1;32mNone\u001b[0m\u001b[1;33m,\u001b[0m \u001b[0mlevel\u001b[0m\u001b[1;33m=\u001b[0m\u001b[1;32mNone\u001b[0m\u001b[1;33m,\u001b[0m \u001b[0mnumeric_only\u001b[0m\u001b[1;33m=\u001b[0m\u001b[1;32mNone\u001b[0m\u001b[1;33m,\u001b[0m \u001b[1;33m**\u001b[0m\u001b[0mkwargs\u001b[0m\u001b[1;33m)\u001b[0m\u001b[1;33m:\u001b[0m\u001b[1;33m\u001b[0m\u001b[1;33m\u001b[0m\u001b[0m\n\u001b[1;32m> 11118\u001b[1;33m             \u001b[1;32mreturn\u001b[0m \u001b[0mNDFrame\u001b[0m\u001b[1;33m.\u001b[0m\u001b[0mmean\u001b[0m\u001b[1;33m(\u001b[0m\u001b[0mself\u001b[0m\u001b[1;33m,\u001b[0m \u001b[0maxis\u001b[0m\u001b[1;33m,\u001b[0m \u001b[0mskipna\u001b[0m\u001b[1;33m,\u001b[0m \u001b[0mlevel\u001b[0m\u001b[1;33m,\u001b[0m \u001b[0mnumeric_only\u001b[0m\u001b[1;33m,\u001b[0m \u001b[1;33m**\u001b[0m\u001b[0mkwargs\u001b[0m\u001b[1;33m)\u001b[0m\u001b[1;33m\u001b[0m\u001b[1;33m\u001b[0m\u001b[0m\n\u001b[0m\u001b[0;32m  11119\u001b[0m \u001b[1;33m\u001b[0m\u001b[0m\n\u001b[0;32m  11120\u001b[0m         \u001b[1;31m# pandas\\core\\generic.py:10924: error: Cannot assign to a method\u001b[0m\u001b[1;33m\u001b[0m\u001b[1;33m\u001b[0m\u001b[1;33m\u001b[0m\u001b[0m\n",
      "\u001b[1;32m~\\anaconda3\\lib\\site-packages\\pandas\\core\\generic.py\u001b[0m in \u001b[0;36mmean\u001b[1;34m(self, axis, skipna, level, numeric_only, **kwargs)\u001b[0m\n\u001b[0;32m  10724\u001b[0m \u001b[1;33m\u001b[0m\u001b[0m\n\u001b[0;32m  10725\u001b[0m     \u001b[1;32mdef\u001b[0m \u001b[0mmean\u001b[0m\u001b[1;33m(\u001b[0m\u001b[0mself\u001b[0m\u001b[1;33m,\u001b[0m \u001b[0maxis\u001b[0m\u001b[1;33m=\u001b[0m\u001b[1;32mNone\u001b[0m\u001b[1;33m,\u001b[0m \u001b[0mskipna\u001b[0m\u001b[1;33m=\u001b[0m\u001b[1;32mNone\u001b[0m\u001b[1;33m,\u001b[0m \u001b[0mlevel\u001b[0m\u001b[1;33m=\u001b[0m\u001b[1;32mNone\u001b[0m\u001b[1;33m,\u001b[0m \u001b[0mnumeric_only\u001b[0m\u001b[1;33m=\u001b[0m\u001b[1;32mNone\u001b[0m\u001b[1;33m,\u001b[0m \u001b[1;33m**\u001b[0m\u001b[0mkwargs\u001b[0m\u001b[1;33m)\u001b[0m\u001b[1;33m:\u001b[0m\u001b[1;33m\u001b[0m\u001b[1;33m\u001b[0m\u001b[0m\n\u001b[1;32m> 10726\u001b[1;33m         return self._stat_function(\n\u001b[0m\u001b[0;32m  10727\u001b[0m             \u001b[1;34m\"mean\"\u001b[0m\u001b[1;33m,\u001b[0m \u001b[0mnanops\u001b[0m\u001b[1;33m.\u001b[0m\u001b[0mnanmean\u001b[0m\u001b[1;33m,\u001b[0m \u001b[0maxis\u001b[0m\u001b[1;33m,\u001b[0m \u001b[0mskipna\u001b[0m\u001b[1;33m,\u001b[0m \u001b[0mlevel\u001b[0m\u001b[1;33m,\u001b[0m \u001b[0mnumeric_only\u001b[0m\u001b[1;33m,\u001b[0m \u001b[1;33m**\u001b[0m\u001b[0mkwargs\u001b[0m\u001b[1;33m\u001b[0m\u001b[1;33m\u001b[0m\u001b[0m\n\u001b[0;32m  10728\u001b[0m         )\n",
      "\u001b[1;32m~\\anaconda3\\lib\\site-packages\\pandas\\core\\generic.py\u001b[0m in \u001b[0;36m_stat_function\u001b[1;34m(self, name, func, axis, skipna, level, numeric_only, **kwargs)\u001b[0m\n\u001b[0;32m  10709\u001b[0m         \u001b[1;32mif\u001b[0m \u001b[0mlevel\u001b[0m \u001b[1;32mis\u001b[0m \u001b[1;32mnot\u001b[0m \u001b[1;32mNone\u001b[0m\u001b[1;33m:\u001b[0m\u001b[1;33m\u001b[0m\u001b[1;33m\u001b[0m\u001b[0m\n\u001b[0;32m  10710\u001b[0m             \u001b[1;32mreturn\u001b[0m \u001b[0mself\u001b[0m\u001b[1;33m.\u001b[0m\u001b[0m_agg_by_level\u001b[0m\u001b[1;33m(\u001b[0m\u001b[0mname\u001b[0m\u001b[1;33m,\u001b[0m \u001b[0maxis\u001b[0m\u001b[1;33m=\u001b[0m\u001b[0maxis\u001b[0m\u001b[1;33m,\u001b[0m \u001b[0mlevel\u001b[0m\u001b[1;33m=\u001b[0m\u001b[0mlevel\u001b[0m\u001b[1;33m,\u001b[0m \u001b[0mskipna\u001b[0m\u001b[1;33m=\u001b[0m\u001b[0mskipna\u001b[0m\u001b[1;33m)\u001b[0m\u001b[1;33m\u001b[0m\u001b[1;33m\u001b[0m\u001b[0m\n\u001b[1;32m> 10711\u001b[1;33m         return self._reduce(\n\u001b[0m\u001b[0;32m  10712\u001b[0m             \u001b[0mfunc\u001b[0m\u001b[1;33m,\u001b[0m \u001b[0mname\u001b[0m\u001b[1;33m=\u001b[0m\u001b[0mname\u001b[0m\u001b[1;33m,\u001b[0m \u001b[0maxis\u001b[0m\u001b[1;33m=\u001b[0m\u001b[0maxis\u001b[0m\u001b[1;33m,\u001b[0m \u001b[0mskipna\u001b[0m\u001b[1;33m=\u001b[0m\u001b[0mskipna\u001b[0m\u001b[1;33m,\u001b[0m \u001b[0mnumeric_only\u001b[0m\u001b[1;33m=\u001b[0m\u001b[0mnumeric_only\u001b[0m\u001b[1;33m\u001b[0m\u001b[1;33m\u001b[0m\u001b[0m\n\u001b[0;32m  10713\u001b[0m         )\n",
      "\u001b[1;32m~\\anaconda3\\lib\\site-packages\\pandas\\core\\series.py\u001b[0m in \u001b[0;36m_reduce\u001b[1;34m(self, op, name, axis, skipna, numeric_only, filter_type, **kwds)\u001b[0m\n\u001b[0;32m   4180\u001b[0m                 )\n\u001b[0;32m   4181\u001b[0m             \u001b[1;32mwith\u001b[0m \u001b[0mnp\u001b[0m\u001b[1;33m.\u001b[0m\u001b[0merrstate\u001b[0m\u001b[1;33m(\u001b[0m\u001b[0mall\u001b[0m\u001b[1;33m=\u001b[0m\u001b[1;34m\"ignore\"\u001b[0m\u001b[1;33m)\u001b[0m\u001b[1;33m:\u001b[0m\u001b[1;33m\u001b[0m\u001b[1;33m\u001b[0m\u001b[0m\n\u001b[1;32m-> 4182\u001b[1;33m                 \u001b[1;32mreturn\u001b[0m \u001b[0mop\u001b[0m\u001b[1;33m(\u001b[0m\u001b[0mdelegate\u001b[0m\u001b[1;33m,\u001b[0m \u001b[0mskipna\u001b[0m\u001b[1;33m=\u001b[0m\u001b[0mskipna\u001b[0m\u001b[1;33m,\u001b[0m \u001b[1;33m**\u001b[0m\u001b[0mkwds\u001b[0m\u001b[1;33m)\u001b[0m\u001b[1;33m\u001b[0m\u001b[1;33m\u001b[0m\u001b[0m\n\u001b[0m\u001b[0;32m   4183\u001b[0m \u001b[1;33m\u001b[0m\u001b[0m\n\u001b[0;32m   4184\u001b[0m     \u001b[1;32mdef\u001b[0m \u001b[0m_reindex_indexer\u001b[0m\u001b[1;33m(\u001b[0m\u001b[0mself\u001b[0m\u001b[1;33m,\u001b[0m \u001b[0mnew_index\u001b[0m\u001b[1;33m,\u001b[0m \u001b[0mindexer\u001b[0m\u001b[1;33m,\u001b[0m \u001b[0mcopy\u001b[0m\u001b[1;33m)\u001b[0m\u001b[1;33m:\u001b[0m\u001b[1;33m\u001b[0m\u001b[1;33m\u001b[0m\u001b[0m\n",
      "\u001b[1;32m~\\anaconda3\\lib\\site-packages\\pandas\\core\\nanops.py\u001b[0m in \u001b[0;36m_f\u001b[1;34m(*args, **kwargs)\u001b[0m\n\u001b[0;32m     71\u001b[0m             \u001b[1;32mtry\u001b[0m\u001b[1;33m:\u001b[0m\u001b[1;33m\u001b[0m\u001b[1;33m\u001b[0m\u001b[0m\n\u001b[0;32m     72\u001b[0m                 \u001b[1;32mwith\u001b[0m \u001b[0mnp\u001b[0m\u001b[1;33m.\u001b[0m\u001b[0merrstate\u001b[0m\u001b[1;33m(\u001b[0m\u001b[0minvalid\u001b[0m\u001b[1;33m=\u001b[0m\u001b[1;34m\"ignore\"\u001b[0m\u001b[1;33m)\u001b[0m\u001b[1;33m:\u001b[0m\u001b[1;33m\u001b[0m\u001b[1;33m\u001b[0m\u001b[0m\n\u001b[1;32m---> 73\u001b[1;33m                     \u001b[1;32mreturn\u001b[0m \u001b[0mf\u001b[0m\u001b[1;33m(\u001b[0m\u001b[1;33m*\u001b[0m\u001b[0margs\u001b[0m\u001b[1;33m,\u001b[0m \u001b[1;33m**\u001b[0m\u001b[0mkwargs\u001b[0m\u001b[1;33m)\u001b[0m\u001b[1;33m\u001b[0m\u001b[1;33m\u001b[0m\u001b[0m\n\u001b[0m\u001b[0;32m     74\u001b[0m             \u001b[1;32mexcept\u001b[0m \u001b[0mValueError\u001b[0m \u001b[1;32mas\u001b[0m \u001b[0me\u001b[0m\u001b[1;33m:\u001b[0m\u001b[1;33m\u001b[0m\u001b[1;33m\u001b[0m\u001b[0m\n\u001b[0;32m     75\u001b[0m                 \u001b[1;31m# we want to transform an object array\u001b[0m\u001b[1;33m\u001b[0m\u001b[1;33m\u001b[0m\u001b[1;33m\u001b[0m\u001b[0m\n",
      "\u001b[1;32m~\\anaconda3\\lib\\site-packages\\pandas\\core\\nanops.py\u001b[0m in \u001b[0;36mf\u001b[1;34m(values, axis, skipna, **kwds)\u001b[0m\n\u001b[0;32m    133\u001b[0m                     \u001b[0mresult\u001b[0m \u001b[1;33m=\u001b[0m \u001b[0malt\u001b[0m\u001b[1;33m(\u001b[0m\u001b[0mvalues\u001b[0m\u001b[1;33m,\u001b[0m \u001b[0maxis\u001b[0m\u001b[1;33m=\u001b[0m\u001b[0maxis\u001b[0m\u001b[1;33m,\u001b[0m \u001b[0mskipna\u001b[0m\u001b[1;33m=\u001b[0m\u001b[0mskipna\u001b[0m\u001b[1;33m,\u001b[0m \u001b[1;33m**\u001b[0m\u001b[0mkwds\u001b[0m\u001b[1;33m)\u001b[0m\u001b[1;33m\u001b[0m\u001b[1;33m\u001b[0m\u001b[0m\n\u001b[0;32m    134\u001b[0m             \u001b[1;32melse\u001b[0m\u001b[1;33m:\u001b[0m\u001b[1;33m\u001b[0m\u001b[1;33m\u001b[0m\u001b[0m\n\u001b[1;32m--> 135\u001b[1;33m                 \u001b[0mresult\u001b[0m \u001b[1;33m=\u001b[0m \u001b[0malt\u001b[0m\u001b[1;33m(\u001b[0m\u001b[0mvalues\u001b[0m\u001b[1;33m,\u001b[0m \u001b[0maxis\u001b[0m\u001b[1;33m=\u001b[0m\u001b[0maxis\u001b[0m\u001b[1;33m,\u001b[0m \u001b[0mskipna\u001b[0m\u001b[1;33m=\u001b[0m\u001b[0mskipna\u001b[0m\u001b[1;33m,\u001b[0m \u001b[1;33m**\u001b[0m\u001b[0mkwds\u001b[0m\u001b[1;33m)\u001b[0m\u001b[1;33m\u001b[0m\u001b[1;33m\u001b[0m\u001b[0m\n\u001b[0m\u001b[0;32m    136\u001b[0m \u001b[1;33m\u001b[0m\u001b[0m\n\u001b[0;32m    137\u001b[0m             \u001b[1;32mreturn\u001b[0m \u001b[0mresult\u001b[0m\u001b[1;33m\u001b[0m\u001b[1;33m\u001b[0m\u001b[0m\n",
      "\u001b[1;32m~\\anaconda3\\lib\\site-packages\\pandas\\core\\nanops.py\u001b[0m in \u001b[0;36mnew_func\u001b[1;34m(values, axis, skipna, mask, **kwargs)\u001b[0m\n\u001b[0;32m    392\u001b[0m             \u001b[0mmask\u001b[0m \u001b[1;33m=\u001b[0m \u001b[0misna\u001b[0m\u001b[1;33m(\u001b[0m\u001b[0mvalues\u001b[0m\u001b[1;33m)\u001b[0m\u001b[1;33m\u001b[0m\u001b[1;33m\u001b[0m\u001b[0m\n\u001b[0;32m    393\u001b[0m \u001b[1;33m\u001b[0m\u001b[0m\n\u001b[1;32m--> 394\u001b[1;33m         \u001b[0mresult\u001b[0m \u001b[1;33m=\u001b[0m \u001b[0mfunc\u001b[0m\u001b[1;33m(\u001b[0m\u001b[0mvalues\u001b[0m\u001b[1;33m,\u001b[0m \u001b[0maxis\u001b[0m\u001b[1;33m=\u001b[0m\u001b[0maxis\u001b[0m\u001b[1;33m,\u001b[0m \u001b[0mskipna\u001b[0m\u001b[1;33m=\u001b[0m\u001b[0mskipna\u001b[0m\u001b[1;33m,\u001b[0m \u001b[0mmask\u001b[0m\u001b[1;33m=\u001b[0m\u001b[0mmask\u001b[0m\u001b[1;33m,\u001b[0m \u001b[1;33m**\u001b[0m\u001b[0mkwargs\u001b[0m\u001b[1;33m)\u001b[0m\u001b[1;33m\u001b[0m\u001b[1;33m\u001b[0m\u001b[0m\n\u001b[0m\u001b[0;32m    395\u001b[0m \u001b[1;33m\u001b[0m\u001b[0m\n\u001b[0;32m    396\u001b[0m         \u001b[1;32mif\u001b[0m \u001b[0mdatetimelike\u001b[0m\u001b[1;33m:\u001b[0m\u001b[1;33m\u001b[0m\u001b[1;33m\u001b[0m\u001b[0m\n",
      "\u001b[1;32m~\\anaconda3\\lib\\site-packages\\pandas\\core\\nanops.py\u001b[0m in \u001b[0;36mnanmean\u001b[1;34m(values, axis, skipna, mask)\u001b[0m\n\u001b[0;32m    631\u001b[0m \u001b[1;33m\u001b[0m\u001b[0m\n\u001b[0;32m    632\u001b[0m     \u001b[0mcount\u001b[0m \u001b[1;33m=\u001b[0m \u001b[0m_get_counts\u001b[0m\u001b[1;33m(\u001b[0m\u001b[0mvalues\u001b[0m\u001b[1;33m.\u001b[0m\u001b[0mshape\u001b[0m\u001b[1;33m,\u001b[0m \u001b[0mmask\u001b[0m\u001b[1;33m,\u001b[0m \u001b[0maxis\u001b[0m\u001b[1;33m,\u001b[0m \u001b[0mdtype\u001b[0m\u001b[1;33m=\u001b[0m\u001b[0mdtype_count\u001b[0m\u001b[1;33m)\u001b[0m\u001b[1;33m\u001b[0m\u001b[1;33m\u001b[0m\u001b[0m\n\u001b[1;32m--> 633\u001b[1;33m     \u001b[0mthe_sum\u001b[0m \u001b[1;33m=\u001b[0m \u001b[0m_ensure_numeric\u001b[0m\u001b[1;33m(\u001b[0m\u001b[0mvalues\u001b[0m\u001b[1;33m.\u001b[0m\u001b[0msum\u001b[0m\u001b[1;33m(\u001b[0m\u001b[0maxis\u001b[0m\u001b[1;33m,\u001b[0m \u001b[0mdtype\u001b[0m\u001b[1;33m=\u001b[0m\u001b[0mdtype_sum\u001b[0m\u001b[1;33m)\u001b[0m\u001b[1;33m)\u001b[0m\u001b[1;33m\u001b[0m\u001b[1;33m\u001b[0m\u001b[0m\n\u001b[0m\u001b[0;32m    634\u001b[0m \u001b[1;33m\u001b[0m\u001b[0m\n\u001b[0;32m    635\u001b[0m     \u001b[1;32mif\u001b[0m \u001b[0maxis\u001b[0m \u001b[1;32mis\u001b[0m \u001b[1;32mnot\u001b[0m \u001b[1;32mNone\u001b[0m \u001b[1;32mand\u001b[0m \u001b[0mgetattr\u001b[0m\u001b[1;33m(\u001b[0m\u001b[0mthe_sum\u001b[0m\u001b[1;33m,\u001b[0m \u001b[1;34m\"ndim\"\u001b[0m\u001b[1;33m,\u001b[0m \u001b[1;32mFalse\u001b[0m\u001b[1;33m)\u001b[0m\u001b[1;33m:\u001b[0m\u001b[1;33m\u001b[0m\u001b[1;33m\u001b[0m\u001b[0m\n",
      "\u001b[1;32m~\\anaconda3\\lib\\site-packages\\pandas\\core\\nanops.py\u001b[0m in \u001b[0;36m_ensure_numeric\u001b[1;34m(x)\u001b[0m\n\u001b[0;32m   1542\u001b[0m             \u001b[1;32mexcept\u001b[0m \u001b[0mValueError\u001b[0m \u001b[1;32mas\u001b[0m \u001b[0merr\u001b[0m\u001b[1;33m:\u001b[0m\u001b[1;33m\u001b[0m\u001b[1;33m\u001b[0m\u001b[0m\n\u001b[0;32m   1543\u001b[0m                 \u001b[1;31m# e.g. \"foo\"\u001b[0m\u001b[1;33m\u001b[0m\u001b[1;33m\u001b[0m\u001b[1;33m\u001b[0m\u001b[0m\n\u001b[1;32m-> 1544\u001b[1;33m                 \u001b[1;32mraise\u001b[0m \u001b[0mTypeError\u001b[0m\u001b[1;33m(\u001b[0m\u001b[1;34mf\"Could not convert {x} to numeric\"\u001b[0m\u001b[1;33m)\u001b[0m \u001b[1;32mfrom\u001b[0m \u001b[0merr\u001b[0m\u001b[1;33m\u001b[0m\u001b[1;33m\u001b[0m\u001b[0m\n\u001b[0m\u001b[0;32m   1545\u001b[0m     \u001b[1;32mreturn\u001b[0m \u001b[0mx\u001b[0m\u001b[1;33m\u001b[0m\u001b[1;33m\u001b[0m\u001b[0m\n\u001b[0;32m   1546\u001b[0m \u001b[1;33m\u001b[0m\u001b[0m\n",
      "\u001b[1;31mTypeError\u001b[0m: Could not convert $134.14$134.99$133.94$137.39$136.76$136.91$136.01$135.39$135.13$135.37$133.19$130.84$129.71$129.87$126$125.86$125.35$120.99$121.26 to numeric"
     ]
    }
   ],
   "source": [
    "apple.close['2021-02'].mean()"
   ]
  },
  {
   "cell_type": "code",
   "execution_count": 174,
   "id": "ce8e5d39",
   "metadata": {},
   "outputs": [
    {
     "ename": "AttributeError",
     "evalue": "'Series' object has no attribute 'split'",
     "output_type": "error",
     "traceback": [
      "\u001b[1;31m---------------------------------------------------------------------------\u001b[0m",
      "\u001b[1;31mAttributeError\u001b[0m                            Traceback (most recent call last)",
      "\u001b[1;32m<ipython-input-174-8485daca9847>\u001b[0m in \u001b[0;36m<module>\u001b[1;34m\u001b[0m\n\u001b[1;32m----> 1\u001b[1;33m \u001b[0mapple\u001b[0m\u001b[1;33m.\u001b[0m\u001b[0mclose\u001b[0m\u001b[1;33m.\u001b[0m\u001b[0msplit\u001b[0m\u001b[1;33m(\u001b[0m\u001b[1;34m''\u001b[0m\u001b[1;33m)\u001b[0m\u001b[1;33m\u001b[0m\u001b[1;33m\u001b[0m\u001b[0m\n\u001b[0m",
      "\u001b[1;32m~\\anaconda3\\lib\\site-packages\\pandas\\core\\generic.py\u001b[0m in \u001b[0;36m__getattr__\u001b[1;34m(self, name)\u001b[0m\n\u001b[0;32m   5463\u001b[0m             \u001b[1;32mif\u001b[0m \u001b[0mself\u001b[0m\u001b[1;33m.\u001b[0m\u001b[0m_info_axis\u001b[0m\u001b[1;33m.\u001b[0m\u001b[0m_can_hold_identifiers_and_holds_name\u001b[0m\u001b[1;33m(\u001b[0m\u001b[0mname\u001b[0m\u001b[1;33m)\u001b[0m\u001b[1;33m:\u001b[0m\u001b[1;33m\u001b[0m\u001b[1;33m\u001b[0m\u001b[0m\n\u001b[0;32m   5464\u001b[0m                 \u001b[1;32mreturn\u001b[0m \u001b[0mself\u001b[0m\u001b[1;33m[\u001b[0m\u001b[0mname\u001b[0m\u001b[1;33m]\u001b[0m\u001b[1;33m\u001b[0m\u001b[1;33m\u001b[0m\u001b[0m\n\u001b[1;32m-> 5465\u001b[1;33m             \u001b[1;32mreturn\u001b[0m \u001b[0mobject\u001b[0m\u001b[1;33m.\u001b[0m\u001b[0m__getattribute__\u001b[0m\u001b[1;33m(\u001b[0m\u001b[0mself\u001b[0m\u001b[1;33m,\u001b[0m \u001b[0mname\u001b[0m\u001b[1;33m)\u001b[0m\u001b[1;33m\u001b[0m\u001b[1;33m\u001b[0m\u001b[0m\n\u001b[0m\u001b[0;32m   5466\u001b[0m \u001b[1;33m\u001b[0m\u001b[0m\n\u001b[0;32m   5467\u001b[0m     \u001b[1;32mdef\u001b[0m \u001b[0m__setattr__\u001b[0m\u001b[1;33m(\u001b[0m\u001b[0mself\u001b[0m\u001b[1;33m,\u001b[0m \u001b[0mname\u001b[0m\u001b[1;33m:\u001b[0m \u001b[0mstr\u001b[0m\u001b[1;33m,\u001b[0m \u001b[0mvalue\u001b[0m\u001b[1;33m)\u001b[0m \u001b[1;33m->\u001b[0m \u001b[1;32mNone\u001b[0m\u001b[1;33m:\u001b[0m\u001b[1;33m\u001b[0m\u001b[1;33m\u001b[0m\u001b[0m\n",
      "\u001b[1;31mAttributeError\u001b[0m: 'Series' object has no attribute 'split'"
     ]
    }
   ],
   "source": [
    "apple.close.split('')"
   ]
  },
  {
   "cell_type": "code",
   "execution_count": 175,
   "id": "e1a0a106",
   "metadata": {},
   "outputs": [],
   "source": [
    "apple.close = apple.close.apply(lambda x : x.split('$')[1])"
   ]
  },
  {
   "cell_type": "code",
   "execution_count": 176,
   "id": "90e23f78",
   "metadata": {},
   "outputs": [],
   "source": [
    "apple.open = apple.open.apply(lambda x : x.split('$')[1])\n",
    "apple.high = apple.high.apply(lambda x : x.split('$')[1])\n",
    "apple.low = apple.low.apply(lambda x : x.split('$')[1])"
   ]
  },
  {
   "cell_type": "code",
   "execution_count": 177,
   "id": "ff225d76",
   "metadata": {},
   "outputs": [
    {
     "data": {
      "text/html": [
       "<div>\n",
       "<style scoped>\n",
       "    .dataframe tbody tr th:only-of-type {\n",
       "        vertical-align: middle;\n",
       "    }\n",
       "\n",
       "    .dataframe tbody tr th {\n",
       "        vertical-align: top;\n",
       "    }\n",
       "\n",
       "    .dataframe thead th {\n",
       "        text-align: right;\n",
       "    }\n",
       "</style>\n",
       "<table border=\"1\" class=\"dataframe\">\n",
       "  <thead>\n",
       "    <tr style=\"text-align: right;\">\n",
       "      <th></th>\n",
       "      <th>close</th>\n",
       "      <th>volume</th>\n",
       "      <th>open</th>\n",
       "      <th>high</th>\n",
       "      <th>low</th>\n",
       "    </tr>\n",
       "    <tr>\n",
       "      <th>Date</th>\n",
       "      <th></th>\n",
       "      <th></th>\n",
       "      <th></th>\n",
       "      <th></th>\n",
       "      <th></th>\n",
       "    </tr>\n",
       "  </thead>\n",
       "  <tbody>\n",
       "    <tr>\n",
       "      <th>2017-02-07</th>\n",
       "      <td>32.8825</td>\n",
       "      <td>152633640</td>\n",
       "      <td>32.635</td>\n",
       "      <td>33.0225</td>\n",
       "      <td>32.6125</td>\n",
       "    </tr>\n",
       "    <tr>\n",
       "      <th>2017-02-08</th>\n",
       "      <td>33.01</td>\n",
       "      <td>91766600</td>\n",
       "      <td>32.8375</td>\n",
       "      <td>33.055</td>\n",
       "      <td>32.805</td>\n",
       "    </tr>\n",
       "    <tr>\n",
       "      <th>2017-02-09</th>\n",
       "      <td>33.105</td>\n",
       "      <td>113285760</td>\n",
       "      <td>32.9125</td>\n",
       "      <td>33.1112</td>\n",
       "      <td>32.78</td>\n",
       "    </tr>\n",
       "    <tr>\n",
       "      <th>2017-02-10</th>\n",
       "      <td>33.03</td>\n",
       "      <td>80185000</td>\n",
       "      <td>33.115</td>\n",
       "      <td>33.235</td>\n",
       "      <td>33.0125</td>\n",
       "    </tr>\n",
       "    <tr>\n",
       "      <th>2017-02-13</th>\n",
       "      <td>33.3225</td>\n",
       "      <td>91959920</td>\n",
       "      <td>33.27</td>\n",
       "      <td>33.455</td>\n",
       "      <td>33.1875</td>\n",
       "    </tr>\n",
       "    <tr>\n",
       "      <th>...</th>\n",
       "      <td>...</td>\n",
       "      <td>...</td>\n",
       "      <td>...</td>\n",
       "      <td>...</td>\n",
       "      <td>...</td>\n",
       "    </tr>\n",
       "    <tr>\n",
       "      <th>2022-01-31</th>\n",
       "      <td>174.78</td>\n",
       "      <td>115541600</td>\n",
       "      <td>170.16</td>\n",
       "      <td>175</td>\n",
       "      <td>169.51</td>\n",
       "    </tr>\n",
       "    <tr>\n",
       "      <th>2022-02-01</th>\n",
       "      <td>174.61</td>\n",
       "      <td>86213910</td>\n",
       "      <td>174.01</td>\n",
       "      <td>174.84</td>\n",
       "      <td>172.31</td>\n",
       "    </tr>\n",
       "    <tr>\n",
       "      <th>2022-02-02</th>\n",
       "      <td>175.84</td>\n",
       "      <td>84914260</td>\n",
       "      <td>174.745</td>\n",
       "      <td>175.88</td>\n",
       "      <td>173.33</td>\n",
       "    </tr>\n",
       "    <tr>\n",
       "      <th>2022-02-03</th>\n",
       "      <td>172.9</td>\n",
       "      <td>89418070</td>\n",
       "      <td>174.48</td>\n",
       "      <td>176.2399</td>\n",
       "      <td>172.12</td>\n",
       "    </tr>\n",
       "    <tr>\n",
       "      <th>2022-02-04</th>\n",
       "      <td>172.39</td>\n",
       "      <td>82465400</td>\n",
       "      <td>171.68</td>\n",
       "      <td>174.1</td>\n",
       "      <td>170.68</td>\n",
       "    </tr>\n",
       "  </tbody>\n",
       "</table>\n",
       "<p>1259 rows × 5 columns</p>\n",
       "</div>"
      ],
      "text/plain": [
       "              close     volume     open      high      low\n",
       "Date                                                      \n",
       "2017-02-07  32.8825  152633640   32.635   33.0225  32.6125\n",
       "2017-02-08    33.01   91766600  32.8375    33.055   32.805\n",
       "2017-02-09   33.105  113285760  32.9125   33.1112    32.78\n",
       "2017-02-10    33.03   80185000   33.115    33.235  33.0125\n",
       "2017-02-13  33.3225   91959920    33.27    33.455  33.1875\n",
       "...             ...        ...      ...       ...      ...\n",
       "2022-01-31   174.78  115541600   170.16       175   169.51\n",
       "2022-02-01   174.61   86213910   174.01    174.84   172.31\n",
       "2022-02-02   175.84   84914260  174.745    175.88   173.33\n",
       "2022-02-03    172.9   89418070   174.48  176.2399   172.12\n",
       "2022-02-04   172.39   82465400   171.68     174.1   170.68\n",
       "\n",
       "[1259 rows x 5 columns]"
      ]
     },
     "execution_count": 177,
     "metadata": {},
     "output_type": "execute_result"
    }
   ],
   "source": [
    "apple"
   ]
  },
  {
   "cell_type": "code",
   "execution_count": 178,
   "id": "64783d77",
   "metadata": {},
   "outputs": [],
   "source": [
    "apple.close = round(apple.close.astype('float'),0)"
   ]
  },
  {
   "cell_type": "code",
   "execution_count": 179,
   "id": "87ce96ec",
   "metadata": {},
   "outputs": [
    {
     "data": {
      "text/plain": [
       "Date\n",
       "2017-02-07     33.0\n",
       "2017-02-08     33.0\n",
       "2017-02-09     33.0\n",
       "2017-02-10     33.0\n",
       "2017-02-13     33.0\n",
       "              ...  \n",
       "2022-01-31    175.0\n",
       "2022-02-01    175.0\n",
       "2022-02-02    176.0\n",
       "2022-02-03    173.0\n",
       "2022-02-04    172.0\n",
       "Name: close, Length: 1259, dtype: float64"
      ]
     },
     "execution_count": 179,
     "metadata": {},
     "output_type": "execute_result"
    }
   ],
   "source": [
    "apple.close"
   ]
  },
  {
   "cell_type": "code",
   "execution_count": 180,
   "id": "07ecb6c2",
   "metadata": {},
   "outputs": [
    {
     "data": {
      "text/plain": [
       "126.56818181818181"
      ]
     },
     "execution_count": 180,
     "metadata": {},
     "output_type": "execute_result"
    }
   ],
   "source": [
    "apple.close['2021-03':'2021-04'].mean()"
   ]
  },
  {
   "cell_type": "code",
   "execution_count": 181,
   "id": "443ea0db",
   "metadata": {},
   "outputs": [],
   "source": [
    "apple_month = apple.close.resample('M').mean()"
   ]
  },
  {
   "cell_type": "code",
   "execution_count": 182,
   "id": "39245774",
   "metadata": {},
   "outputs": [],
   "source": [
    "import matplotlib.pyplot as plt"
   ]
  },
  {
   "cell_type": "code",
   "execution_count": 183,
   "id": "ce11bc23",
   "metadata": {},
   "outputs": [
    {
     "data": {
      "text/plain": [
       "[<matplotlib.lines.Line2D at 0x2aedd896640>]"
      ]
     },
     "execution_count": 183,
     "metadata": {},
     "output_type": "execute_result"
    },
    {
     "data": {
      "image/png": "[encoded data removed]",
      "text/plain": [
       "<Figure size 432x288 with 1 Axes>"
      ]
     },
     "metadata": {
      "needs_background": "light"
     },
     "output_type": "display_data"
    }
   ],
   "source": [
    "plt.plot(apple.close.resample('M').mean())"
   ]
  },
  {
   "cell_type": "code",
   "execution_count": 184,
   "id": "ea59d98c",
   "metadata": {},
   "outputs": [],
   "source": [
    "# now we have generated the time series now we will look into the fact is it stationary or no-stationary"
   ]
  },
  {
   "cell_type": "code",
   "execution_count": 185,
   "id": "a4a00f70",
   "metadata": {},
   "outputs": [
    {
     "data": {
      "text/plain": [
       "Date\n",
       "2017-02-28     33.666667\n",
       "2017-03-31     35.173913\n",
       "2017-04-30     35.684211\n",
       "2017-05-31     37.909091\n",
       "2017-06-30     36.909091\n",
       "                 ...    \n",
       "2021-10-31    145.666667\n",
       "2021-11-30    154.190476\n",
       "2021-12-31    173.500000\n",
       "2022-01-31    169.900000\n",
       "2022-02-28    174.000000\n",
       "Freq: M, Name: close, Length: 61, dtype: float64"
      ]
     },
     "execution_count": 185,
     "metadata": {},
     "output_type": "execute_result"
    }
   ],
   "source": [
    "apple_month"
   ]
  },
  {
   "cell_type": "code",
   "execution_count": 186,
   "id": "db5ef953",
   "metadata": {},
   "outputs": [
    {
     "data": {
      "text/plain": [
       "[<matplotlib.lines.Line2D at 0x2aedc58df10>]"
      ]
     },
     "execution_count": 186,
     "metadata": {},
     "output_type": "execute_result"
    },
    {
     "data": {
      "image/png": "[encoded data removed]",
      "text/plain": [
       "<Figure size 432x288 with 1 Axes>"
      ]
     },
     "metadata": {
      "needs_background": "light"
     },
     "output_type": "display_data"
    }
   ],
   "source": [
    "plt.plot(apple_month.rolling(5).mean())"
   ]
  },
  {
   "cell_type": "code",
   "execution_count": 187,
   "id": "458de3b7",
   "metadata": {},
   "outputs": [
    {
     "data": {
      "text/plain": [
       "[<matplotlib.lines.Line2D at 0x2aedc76faf0>]"
      ]
     },
     "execution_count": 187,
     "metadata": {},
     "output_type": "execute_result"
    },
    {
     "data": {
      "image/png": "[encoded data removed]",
      "text/plain": [
       "<Figure size 432x288 with 1 Axes>"
      ]
     },
     "metadata": {
      "needs_background": "light"
     },
     "output_type": "display_data"
    }
   ],
   "source": [
    "# calculating the moving average this is not constant \n",
    "plt.plot(apple.close.rolling(120).mean())"
   ]
  },
  {
   "cell_type": "code",
   "execution_count": 188,
   "id": "bb8c206c",
   "metadata": {},
   "outputs": [
    {
     "data": {
      "text/plain": [
       "[<matplotlib.lines.Line2D at 0x2aedd995b20>]"
      ]
     },
     "execution_count": 188,
     "metadata": {},
     "output_type": "execute_result"
    },
    {
     "data": {
      "image/png": "[encoded data removed]",
      "text/plain": [
       "<Figure size 432x288 with 1 Axes>"
      ]
     },
     "metadata": {
      "needs_background": "light"
     },
     "output_type": "display_data"
    }
   ],
   "source": [
    "# calculating thhe variance \n",
    "plt.plot(apple.close.rolling(120).std())"
   ]
  },
  {
   "cell_type": "code",
   "execution_count": 189,
   "id": "0a01b935",
   "metadata": {},
   "outputs": [
    {
     "ename": "AttributeError",
     "evalue": "module 'matplotlib.pyplot' has no attribute 'label'",
     "output_type": "error",
     "traceback": [
      "\u001b[1;31m---------------------------------------------------------------------------\u001b[0m",
      "\u001b[1;31mAttributeError\u001b[0m                            Traceback (most recent call last)",
      "\u001b[1;32m<ipython-input-189-ee153ace8493>\u001b[0m in \u001b[0;36m<module>\u001b[1;34m\u001b[0m\n\u001b[1;32m----> 1\u001b[1;33m \u001b[0mplt\u001b[0m\u001b[1;33m.\u001b[0m\u001b[0mlabel\u001b[0m\u001b[1;33m\u001b[0m\u001b[1;33m\u001b[0m\u001b[0m\n\u001b[0m\u001b[0;32m      2\u001b[0m \u001b[0mplt\u001b[0m\u001b[1;33m.\u001b[0m\u001b[0mplot\u001b[0m\u001b[1;33m(\u001b[0m\u001b[0mapple_month\u001b[0m\u001b[1;33m)\u001b[0m\u001b[1;33m\u001b[0m\u001b[1;33m\u001b[0m\u001b[0m\n\u001b[0;32m      3\u001b[0m \u001b[0mplt\u001b[0m\u001b[1;33m.\u001b[0m\u001b[0mplot\u001b[0m\u001b[1;33m(\u001b[0m\u001b[0mapple_month\u001b[0m\u001b[1;33m.\u001b[0m\u001b[0mrolling\u001b[0m\u001b[1;33m(\u001b[0m\u001b[1;36m5\u001b[0m\u001b[1;33m)\u001b[0m\u001b[1;33m.\u001b[0m\u001b[0mstd\u001b[0m\u001b[1;33m(\u001b[0m\u001b[1;33m)\u001b[0m\u001b[1;33m)\u001b[0m\u001b[1;33m\u001b[0m\u001b[1;33m\u001b[0m\u001b[0m\n\u001b[0;32m      4\u001b[0m \u001b[0mplt\u001b[0m\u001b[1;33m.\u001b[0m\u001b[0mplot\u001b[0m\u001b[1;33m(\u001b[0m\u001b[0mapple_month\u001b[0m\u001b[1;33m.\u001b[0m\u001b[0mrolling\u001b[0m\u001b[1;33m(\u001b[0m\u001b[1;36m5\u001b[0m\u001b[1;33m)\u001b[0m\u001b[1;33m.\u001b[0m\u001b[0mmean\u001b[0m\u001b[1;33m(\u001b[0m\u001b[1;33m)\u001b[0m\u001b[1;33m)\u001b[0m\u001b[1;33m\u001b[0m\u001b[1;33m\u001b[0m\u001b[0m\n",
      "\u001b[1;31mAttributeError\u001b[0m: module 'matplotlib.pyplot' has no attribute 'label'"
     ]
    }
   ],
   "source": [
    "plt.label\n",
    "plt.plot(apple_month)\n",
    "plt.plot(apple_month.rolling(5).std())\n",
    "plt.plot(apple_month.rolling(5).mean())"
   ]
  },
  {
   "cell_type": "code",
   "execution_count": null,
   "id": "60743573",
   "metadata": {},
   "outputs": [],
   "source": [
    "from statsmodels.tsa.stattools import adfuller\n",
    "dftest = adfuller(apple_month , autolag = 'AIC')"
   ]
  },
  {
   "cell_type": "code",
   "execution_count": 190,
   "id": "8406a08f",
   "metadata": {},
   "outputs": [
    {
     "ename": "NameError",
     "evalue": "name 'dftest' is not defined",
     "output_type": "error",
     "traceback": [
      "\u001b[1;31m---------------------------------------------------------------------------\u001b[0m",
      "\u001b[1;31mNameError\u001b[0m                                 Traceback (most recent call last)",
      "\u001b[1;32m<ipython-input-190-2c972785aacc>\u001b[0m in \u001b[0;36m<module>\u001b[1;34m\u001b[0m\n\u001b[1;32m----> 1\u001b[1;33m \u001b[0mdfout\u001b[0m \u001b[1;33m=\u001b[0m \u001b[0mpd\u001b[0m\u001b[1;33m.\u001b[0m\u001b[0mSeries\u001b[0m\u001b[1;33m(\u001b[0m\u001b[0mdftest\u001b[0m\u001b[1;33m[\u001b[0m\u001b[1;36m0\u001b[0m\u001b[1;33m:\u001b[0m\u001b[1;36m4\u001b[0m\u001b[1;33m]\u001b[0m \u001b[1;33m,\u001b[0m \u001b[0mindex\u001b[0m \u001b[1;33m=\u001b[0m \u001b[1;33m[\u001b[0m\u001b[1;34m'test statistics'\u001b[0m\u001b[1;33m,\u001b[0m\u001b[1;34m'p_value'\u001b[0m\u001b[1;33m,\u001b[0m\u001b[1;34m'lags_used'\u001b[0m\u001b[1;33m,\u001b[0m\u001b[1;34m'no. of observation'\u001b[0m\u001b[1;33m]\u001b[0m\u001b[1;33m)\u001b[0m\u001b[1;33m\u001b[0m\u001b[1;33m\u001b[0m\u001b[0m\n\u001b[0m",
      "\u001b[1;31mNameError\u001b[0m: name 'dftest' is not defined"
     ]
    }
   ],
   "source": [
    "dfout = pd.Series(dftest[0:4] , index = ['test statistics','p_value','lags_used','no. of observation'])"
   ]
  },
  {
   "cell_type": "code",
   "execution_count": 191,
   "id": "4a713309",
   "metadata": {},
   "outputs": [
    {
     "ename": "NameError",
     "evalue": "name 'dfout' is not defined",
     "output_type": "error",
     "traceback": [
      "\u001b[1;31m---------------------------------------------------------------------------\u001b[0m",
      "\u001b[1;31mNameError\u001b[0m                                 Traceback (most recent call last)",
      "\u001b[1;32m<ipython-input-191-0169c5211f45>\u001b[0m in \u001b[0;36m<module>\u001b[1;34m\u001b[0m\n\u001b[1;32m----> 1\u001b[1;33m \u001b[0mdfout\u001b[0m\u001b[1;33m\u001b[0m\u001b[1;33m\u001b[0m\u001b[0m\n\u001b[0m",
      "\u001b[1;31mNameError\u001b[0m: name 'dfout' is not defined"
     ]
    }
   ],
   "source": [
    "dfout"
   ]
  },
  {
   "cell_type": "code",
   "execution_count": 192,
   "id": "05a5ee8d",
   "metadata": {},
   "outputs": [
    {
     "ename": "NameError",
     "evalue": "name 'dftest' is not defined",
     "output_type": "error",
     "traceback": [
      "\u001b[1;31m---------------------------------------------------------------------------\u001b[0m",
      "\u001b[1;31mNameError\u001b[0m                                 Traceback (most recent call last)",
      "\u001b[1;32m<ipython-input-192-eaaa6cb1d56f>\u001b[0m in \u001b[0;36m<module>\u001b[1;34m\u001b[0m\n\u001b[1;32m----> 1\u001b[1;33m \u001b[0mdftest\u001b[0m\u001b[1;33m[\u001b[0m\u001b[1;36m4\u001b[0m\u001b[1;33m]\u001b[0m\u001b[1;33m.\u001b[0m\u001b[0mitems\u001b[0m\u001b[1;33m(\u001b[0m\u001b[1;33m)\u001b[0m\u001b[1;33m\u001b[0m\u001b[1;33m\u001b[0m\u001b[0m\n\u001b[0m",
      "\u001b[1;31mNameError\u001b[0m: name 'dftest' is not defined"
     ]
    }
   ],
   "source": [
    "dftest[4].items()"
   ]
  },
  {
   "cell_type": "code",
   "execution_count": 193,
   "id": "92a30a85",
   "metadata": {},
   "outputs": [
    {
     "ename": "NameError",
     "evalue": "name 'dftest' is not defined",
     "output_type": "error",
     "traceback": [
      "\u001b[1;31m---------------------------------------------------------------------------\u001b[0m",
      "\u001b[1;31mNameError\u001b[0m                                 Traceback (most recent call last)",
      "\u001b[1;32m<ipython-input-193-bdb67dcce445>\u001b[0m in \u001b[0;36m<module>\u001b[1;34m\u001b[0m\n\u001b[1;32m----> 1\u001b[1;33m \u001b[0mdftest\u001b[0m\u001b[1;33m[\u001b[0m\u001b[1;36m4\u001b[0m\u001b[1;33m]\u001b[0m\u001b[1;33m\u001b[0m\u001b[1;33m\u001b[0m\u001b[0m\n\u001b[0m",
      "\u001b[1;31mNameError\u001b[0m: name 'dftest' is not defined"
     ]
    }
   ],
   "source": [
    "dftest[4]"
   ]
  },
  {
   "cell_type": "code",
   "execution_count": 194,
   "id": "019017f5",
   "metadata": {},
   "outputs": [
    {
     "ename": "NameError",
     "evalue": "name 'dftest' is not defined",
     "output_type": "error",
     "traceback": [
      "\u001b[1;31m---------------------------------------------------------------------------\u001b[0m",
      "\u001b[1;31mNameError\u001b[0m                                 Traceback (most recent call last)",
      "\u001b[1;32m<ipython-input-194-4e3946dba46e>\u001b[0m in \u001b[0;36m<module>\u001b[1;34m\u001b[0m\n\u001b[1;32m----> 1\u001b[1;33m \u001b[1;32mfor\u001b[0m \u001b[0mkey\u001b[0m \u001b[1;33m,\u001b[0m \u001b[0mvalue\u001b[0m \u001b[1;32min\u001b[0m \u001b[0mdftest\u001b[0m\u001b[1;33m[\u001b[0m\u001b[1;36m4\u001b[0m\u001b[1;33m]\u001b[0m\u001b[1;33m.\u001b[0m\u001b[0mitems\u001b[0m\u001b[1;33m(\u001b[0m\u001b[1;33m)\u001b[0m\u001b[1;33m:\u001b[0m\u001b[1;33m\u001b[0m\u001b[1;33m\u001b[0m\u001b[0m\n\u001b[0m\u001b[0;32m      2\u001b[0m     \u001b[0mdfout\u001b[0m\u001b[1;33m[\u001b[0m\u001b[1;34m'critical Value (%s)'\u001b[0m\u001b[1;33m%\u001b[0m\u001b[0mkey\u001b[0m\u001b[1;33m]\u001b[0m \u001b[1;33m=\u001b[0m \u001b[0mvalue\u001b[0m\u001b[1;33m\u001b[0m\u001b[1;33m\u001b[0m\u001b[0m\n",
      "\u001b[1;31mNameError\u001b[0m: name 'dftest' is not defined"
     ]
    }
   ],
   "source": [
    "for key , value in dftest[4].items():\n",
    "    dfout['critical Value (%s)'%key] = value"
   ]
  },
  {
   "cell_type": "code",
   "execution_count": 195,
   "id": "60eb7259",
   "metadata": {},
   "outputs": [
    {
     "ename": "NameError",
     "evalue": "name 'dfout' is not defined",
     "output_type": "error",
     "traceback": [
      "\u001b[1;31m---------------------------------------------------------------------------\u001b[0m",
      "\u001b[1;31mNameError\u001b[0m                                 Traceback (most recent call last)",
      "\u001b[1;32m<ipython-input-195-0169c5211f45>\u001b[0m in \u001b[0;36m<module>\u001b[1;34m\u001b[0m\n\u001b[1;32m----> 1\u001b[1;33m \u001b[0mdfout\u001b[0m\u001b[1;33m\u001b[0m\u001b[1;33m\u001b[0m\u001b[0m\n\u001b[0m",
      "\u001b[1;31mNameError\u001b[0m: name 'dfout' is not defined"
     ]
    }
   ],
   "source": [
    "dfout"
   ]
  },
  {
   "cell_type": "code",
   "execution_count": 196,
   "id": "8f5c99b9",
   "metadata": {},
   "outputs": [
    {
     "ename": "NameError",
     "evalue": "name 'dftest' is not defined",
     "output_type": "error",
     "traceback": [
      "\u001b[1;31m---------------------------------------------------------------------------\u001b[0m",
      "\u001b[1;31mNameError\u001b[0m                                 Traceback (most recent call last)",
      "\u001b[1;32m<ipython-input-196-f69eff9a8a84>\u001b[0m in \u001b[0;36m<module>\u001b[1;34m\u001b[0m\n\u001b[1;32m----> 1\u001b[1;33m \u001b[1;32mfor\u001b[0m \u001b[0mkey\u001b[0m \u001b[1;33m,\u001b[0m \u001b[0mvalue\u001b[0m \u001b[1;32min\u001b[0m \u001b[0mdftest\u001b[0m\u001b[1;33m[\u001b[0m\u001b[1;36m4\u001b[0m\u001b[1;33m]\u001b[0m\u001b[1;33m.\u001b[0m\u001b[0mitems\u001b[0m\u001b[1;33m(\u001b[0m\u001b[1;33m)\u001b[0m\u001b[1;33m:\u001b[0m\u001b[1;33m\u001b[0m\u001b[1;33m\u001b[0m\u001b[0m\n\u001b[0m\u001b[0;32m      2\u001b[0m     \u001b[0mdfout\u001b[0m\u001b[1;33m[\u001b[0m\u001b[1;34mf'ccritical Value {key}'\u001b[0m\u001b[1;33m]\u001b[0m \u001b[1;33m=\u001b[0m \u001b[0mvalue\u001b[0m\u001b[1;33m\u001b[0m\u001b[1;33m\u001b[0m\u001b[0m\n",
      "\u001b[1;31mNameError\u001b[0m: name 'dftest' is not defined"
     ]
    }
   ],
   "source": [
    "for key , value in dftest[4].items():\n",
    "    dfout[f'ccritical Value {key}'] = value"
   ]
  },
  {
   "cell_type": "code",
   "execution_count": 197,
   "id": "2418cc5a",
   "metadata": {},
   "outputs": [
    {
     "ename": "NameError",
     "evalue": "name 'dfout' is not defined",
     "output_type": "error",
     "traceback": [
      "\u001b[1;31m---------------------------------------------------------------------------\u001b[0m",
      "\u001b[1;31mNameError\u001b[0m                                 Traceback (most recent call last)",
      "\u001b[1;32m<ipython-input-197-0169c5211f45>\u001b[0m in \u001b[0;36m<module>\u001b[1;34m\u001b[0m\n\u001b[1;32m----> 1\u001b[1;33m \u001b[0mdfout\u001b[0m\u001b[1;33m\u001b[0m\u001b[1;33m\u001b[0m\u001b[0m\n\u001b[0m",
      "\u001b[1;31mNameError\u001b[0m: name 'dfout' is not defined"
     ]
    }
   ],
   "source": [
    "dfout"
   ]
  },
  {
   "cell_type": "code",
   "execution_count": 198,
   "id": "efe9d744",
   "metadata": {},
   "outputs": [
    {
     "ename": "SyntaxError",
     "evalue": "invalid syntax (<ipython-input-198-47afcc4accd1>, line 1)",
     "output_type": "error",
     "traceback": [
      "\u001b[1;36m  File \u001b[1;32m\"<ipython-input-198-47afcc4accd1>\"\u001b[1;36m, line \u001b[1;32m1\u001b[0m\n\u001b[1;33m    creating log scale of this\u001b[0m\n\u001b[1;37m             ^\u001b[0m\n\u001b[1;31mSyntaxError\u001b[0m\u001b[1;31m:\u001b[0m invalid syntax\n"
     ]
    }
   ],
   "source": [
    "creating log scale of this"
   ]
  },
  {
   "cell_type": "code",
   "execution_count": 199,
   "id": "c12f746d",
   "metadata": {},
   "outputs": [],
   "source": [
    "apple_log = np.log(apple_month)"
   ]
  },
  {
   "cell_type": "code",
   "execution_count": 200,
   "id": "e3266950",
   "metadata": {},
   "outputs": [
    {
     "data": {
      "text/plain": [
       "[<matplotlib.lines.Line2D at 0x2aedda96400>]"
      ]
     },
     "execution_count": 200,
     "metadata": {},
     "output_type": "execute_result"
    },
    {
     "data": {
      "image/png": "[encoded data removed]",
      "text/plain": [
       "<Figure size 432x288 with 1 Axes>"
      ]
     },
     "metadata": {
      "needs_background": "light"
     },
     "output_type": "display_data"
    }
   ],
   "source": [
    "plt.plot(apple_log)"
   ]
  },
  {
   "cell_type": "code",
   "execution_count": 201,
   "id": "bea598bd",
   "metadata": {},
   "outputs": [
    {
     "data": {
      "text/plain": [
       "[<matplotlib.lines.Line2D at 0x2aeddb0c910>]"
      ]
     },
     "execution_count": 201,
     "metadata": {},
     "output_type": "execute_result"
    },
    {
     "data": {
      "image/png": "[encoded data removed]",
      "text/plain": [
       "<Figure size 432x288 with 1 Axes>"
      ]
     },
     "metadata": {
      "needs_background": "light"
     },
     "output_type": "display_data"
    }
   ],
   "source": [
    "plt.plot(apple_log.rolling(5).mean())\n",
    "plt.plot(apple_month.rolling(5).mean())"
   ]
  },
  {
   "cell_type": "code",
   "execution_count": 202,
   "id": "a9beea58",
   "metadata": {},
   "outputs": [
    {
     "data": {
      "text/plain": [
       "[<matplotlib.lines.Line2D at 0x2aeddb43490>]"
      ]
     },
     "execution_count": 202,
     "metadata": {},
     "output_type": "execute_result"
    },
    {
     "data": {
      "image/png": "[encoded data removed]",
      "text/plain": [
       "<Figure size 432x288 with 1 Axes>"
      ]
     },
     "metadata": {
      "needs_background": "light"
     },
     "output_type": "display_data"
    }
   ],
   "source": [
    "plt.plot(apple_log.rolling(5).std())\n"
   ]
  },
  {
   "cell_type": "code",
   "execution_count": 203,
   "id": "b0d2e5ff",
   "metadata": {},
   "outputs": [
    {
     "data": {
      "text/plain": [
       "[<matplotlib.lines.Line2D at 0x2aeddb95fd0>]"
      ]
     },
     "execution_count": 203,
     "metadata": {},
     "output_type": "execute_result"
    },
    {
     "data": {
      "image/png": "[encoded data removed]",
      "text/plain": [
       "<Figure size 432x288 with 1 Axes>"
      ]
     },
     "metadata": {
      "needs_background": "light"
     },
     "output_type": "display_data"
    }
   ],
   "source": [
    "plt.plot(apple_month.rolling(5).std())"
   ]
  },
  {
   "cell_type": "code",
   "execution_count": 204,
   "id": "43755f9c",
   "metadata": {},
   "outputs": [],
   "source": [
    "apple_new = apple_month - apple_month.rolling(5).mean()"
   ]
  },
  {
   "cell_type": "code",
   "execution_count": 205,
   "id": "f0686f9f",
   "metadata": {},
   "outputs": [
    {
     "data": {
      "text/plain": [
       "[<matplotlib.lines.Line2D at 0x2aeddc21d60>]"
      ]
     },
     "execution_count": 205,
     "metadata": {},
     "output_type": "execute_result"
    },
    {
     "data": {
      "image/png": "[encoded data removed]",
      "text/plain": [
       "<Figure size 432x288 with 1 Axes>"
      ]
     },
     "metadata": {
      "needs_background": "light"
     },
     "output_type": "display_data"
    }
   ],
   "source": [
    "plt.plot(apple_new)"
   ]
  },
  {
   "cell_type": "code",
   "execution_count": 206,
   "id": "c3d63fb0",
   "metadata": {},
   "outputs": [],
   "source": [
    "apple_new.dropna(inplace = True)"
   ]
  },
  {
   "cell_type": "code",
   "execution_count": 207,
   "id": "9c95c771",
   "metadata": {},
   "outputs": [
    {
     "ename": "NameError",
     "evalue": "name 'adfuller' is not defined",
     "output_type": "error",
     "traceback": [
      "\u001b[1;31m---------------------------------------------------------------------------\u001b[0m",
      "\u001b[1;31mNameError\u001b[0m                                 Traceback (most recent call last)",
      "\u001b[1;32m<ipython-input-207-bb25950bdc12>\u001b[0m in \u001b[0;36m<module>\u001b[1;34m\u001b[0m\n\u001b[1;32m----> 1\u001b[1;33m \u001b[0mdftest\u001b[0m \u001b[1;33m=\u001b[0m \u001b[0madfuller\u001b[0m\u001b[1;33m(\u001b[0m\u001b[0mapple_new\u001b[0m \u001b[1;33m,\u001b[0m \u001b[0mautolag\u001b[0m \u001b[1;33m=\u001b[0m \u001b[1;34m'AIC'\u001b[0m\u001b[1;33m)\u001b[0m\u001b[1;33m\u001b[0m\u001b[1;33m\u001b[0m\u001b[0m\n\u001b[0m\u001b[0;32m      2\u001b[0m \u001b[0mdfout\u001b[0m \u001b[1;33m=\u001b[0m \u001b[0mpd\u001b[0m\u001b[1;33m.\u001b[0m\u001b[0mSeries\u001b[0m\u001b[1;33m(\u001b[0m\u001b[0mdftest\u001b[0m\u001b[1;33m[\u001b[0m\u001b[1;36m0\u001b[0m\u001b[1;33m:\u001b[0m\u001b[1;36m4\u001b[0m\u001b[1;33m]\u001b[0m \u001b[1;33m,\u001b[0m \u001b[0mindex\u001b[0m \u001b[1;33m=\u001b[0m \u001b[1;33m[\u001b[0m\u001b[1;34m'test statistics'\u001b[0m\u001b[1;33m,\u001b[0m\u001b[1;34m'p_value'\u001b[0m\u001b[1;33m,\u001b[0m\u001b[1;34m'lags_used'\u001b[0m\u001b[1;33m,\u001b[0m\u001b[1;34m'no. of observation'\u001b[0m\u001b[1;33m]\u001b[0m\u001b[1;33m)\u001b[0m\u001b[1;33m\u001b[0m\u001b[1;33m\u001b[0m\u001b[0m\n\u001b[0;32m      3\u001b[0m \u001b[1;32mfor\u001b[0m \u001b[0mkey\u001b[0m \u001b[1;33m,\u001b[0m \u001b[0mvalue\u001b[0m \u001b[1;32min\u001b[0m \u001b[0mdftest\u001b[0m\u001b[1;33m[\u001b[0m\u001b[1;36m4\u001b[0m\u001b[1;33m]\u001b[0m\u001b[1;33m.\u001b[0m\u001b[0mitems\u001b[0m\u001b[1;33m(\u001b[0m\u001b[1;33m)\u001b[0m\u001b[1;33m:\u001b[0m\u001b[1;33m\u001b[0m\u001b[1;33m\u001b[0m\u001b[0m\n\u001b[0;32m      4\u001b[0m     \u001b[0mdfout\u001b[0m\u001b[1;33m[\u001b[0m\u001b[1;34mf'ccritical Value {key}'\u001b[0m\u001b[1;33m]\u001b[0m \u001b[1;33m=\u001b[0m \u001b[0mvalue\u001b[0m\u001b[1;33m\u001b[0m\u001b[1;33m\u001b[0m\u001b[0m\n\u001b[0;32m      5\u001b[0m \u001b[0mdfout\u001b[0m\u001b[1;33m\u001b[0m\u001b[1;33m\u001b[0m\u001b[0m\n",
      "\u001b[1;31mNameError\u001b[0m: name 'adfuller' is not defined"
     ]
    }
   ],
   "source": [
    "dftest = adfuller(apple_new , autolag = 'AIC')\n",
    "dfout = pd.Series(dftest[0:4] , index = ['test statistics','p_value','lags_used','no. of observation'])\n",
    "for key , value in dftest[4].items():\n",
    "    dfout[f'ccritical Value {key}'] = value\n",
    "dfout"
   ]
  },
  {
   "cell_type": "code",
   "execution_count": 208,
   "id": "c8bcfb7f",
   "metadata": {},
   "outputs": [
    {
     "ename": "NameError",
     "evalue": "name 'adfuller' is not defined",
     "output_type": "error",
     "traceback": [
      "\u001b[1;31m---------------------------------------------------------------------------\u001b[0m",
      "\u001b[1;31mNameError\u001b[0m                                 Traceback (most recent call last)",
      "\u001b[1;32m<ipython-input-208-46b96a1cffa6>\u001b[0m in \u001b[0;36m<module>\u001b[1;34m\u001b[0m\n\u001b[1;32m----> 1\u001b[1;33m \u001b[0mdftest\u001b[0m \u001b[1;33m=\u001b[0m \u001b[0madfuller\u001b[0m\u001b[1;33m(\u001b[0m\u001b[0mapple_month\u001b[0m \u001b[1;33m,\u001b[0m \u001b[0mautolag\u001b[0m \u001b[1;33m=\u001b[0m \u001b[1;34m'AIC'\u001b[0m\u001b[1;33m)\u001b[0m\u001b[1;33m\u001b[0m\u001b[1;33m\u001b[0m\u001b[0m\n\u001b[0m\u001b[0;32m      2\u001b[0m \u001b[0mdfout\u001b[0m \u001b[1;33m=\u001b[0m \u001b[0mpd\u001b[0m\u001b[1;33m.\u001b[0m\u001b[0mSeries\u001b[0m\u001b[1;33m(\u001b[0m\u001b[0mdftest\u001b[0m\u001b[1;33m[\u001b[0m\u001b[1;36m0\u001b[0m\u001b[1;33m:\u001b[0m\u001b[1;36m4\u001b[0m\u001b[1;33m]\u001b[0m \u001b[1;33m,\u001b[0m \u001b[0mindex\u001b[0m \u001b[1;33m=\u001b[0m \u001b[1;33m[\u001b[0m\u001b[1;34m'test statistics'\u001b[0m\u001b[1;33m,\u001b[0m\u001b[1;34m'p_value'\u001b[0m\u001b[1;33m,\u001b[0m\u001b[1;34m'lags_used'\u001b[0m\u001b[1;33m,\u001b[0m\u001b[1;34m'no. of observation'\u001b[0m\u001b[1;33m]\u001b[0m\u001b[1;33m)\u001b[0m\u001b[1;33m\u001b[0m\u001b[1;33m\u001b[0m\u001b[0m\n\u001b[0;32m      3\u001b[0m \u001b[1;32mfor\u001b[0m \u001b[0mkey\u001b[0m \u001b[1;33m,\u001b[0m \u001b[0mvalue\u001b[0m \u001b[1;32min\u001b[0m \u001b[0mdftest\u001b[0m\u001b[1;33m[\u001b[0m\u001b[1;36m4\u001b[0m\u001b[1;33m]\u001b[0m\u001b[1;33m.\u001b[0m\u001b[0mitems\u001b[0m\u001b[1;33m(\u001b[0m\u001b[1;33m)\u001b[0m\u001b[1;33m:\u001b[0m\u001b[1;33m\u001b[0m\u001b[1;33m\u001b[0m\u001b[0m\n\u001b[0;32m      4\u001b[0m     \u001b[0mdfout\u001b[0m\u001b[1;33m[\u001b[0m\u001b[1;34mf'ccritical Value {key}'\u001b[0m\u001b[1;33m]\u001b[0m \u001b[1;33m=\u001b[0m \u001b[0mvalue\u001b[0m\u001b[1;33m\u001b[0m\u001b[1;33m\u001b[0m\u001b[0m\n\u001b[0;32m      5\u001b[0m \u001b[0mdfout\u001b[0m\u001b[1;33m\u001b[0m\u001b[1;33m\u001b[0m\u001b[0m\n",
      "\u001b[1;31mNameError\u001b[0m: name 'adfuller' is not defined"
     ]
    }
   ],
   "source": [
    "dftest = adfuller(apple_month , autolag = 'AIC')\n",
    "dfout = pd.Series(dftest[0:4] , index = ['test statistics','p_value','lags_used','no. of observation'])\n",
    "for key , value in dftest[4].items():\n",
    "    dfout[f'ccritical Value {key}'] = value\n",
    "dfout"
   ]
  },
  {
   "cell_type": "code",
   "execution_count": 209,
   "id": "3ca3c214",
   "metadata": {},
   "outputs": [],
   "source": [
    "diff_apple = apple_month - apple_month.shift(1)\n",
    "diff_apple.dropna(inplace = True)"
   ]
  },
  {
   "cell_type": "code",
   "execution_count": 210,
   "id": "4ed023ad",
   "metadata": {},
   "outputs": [
    {
     "data": {
      "text/plain": [
       "[<matplotlib.lines.Line2D at 0x2aeddb8e520>]"
      ]
     },
     "execution_count": 210,
     "metadata": {},
     "output_type": "execute_result"
    },
    {
     "data": {
      "image/png": "[encoded data removed]",
      "text/plain": [
       "<Figure size 432x288 with 1 Axes>"
      ]
     },
     "metadata": {
      "needs_background": "light"
     },
     "output_type": "display_data"
    }
   ],
   "source": [
    "plt.plot(apple_month - apple_month.shift(1))"
   ]
  },
  {
   "cell_type": "code",
   "execution_count": 211,
   "id": "eea4b76c",
   "metadata": {},
   "outputs": [
    {
     "ename": "NameError",
     "evalue": "name 'adfuller' is not defined",
     "output_type": "error",
     "traceback": [
      "\u001b[1;31m---------------------------------------------------------------------------\u001b[0m",
      "\u001b[1;31mNameError\u001b[0m                                 Traceback (most recent call last)",
      "\u001b[1;32m<ipython-input-211-0b6813bc45ff>\u001b[0m in \u001b[0;36m<module>\u001b[1;34m\u001b[0m\n\u001b[1;32m----> 1\u001b[1;33m \u001b[0mdftest\u001b[0m \u001b[1;33m=\u001b[0m \u001b[0madfuller\u001b[0m\u001b[1;33m(\u001b[0m\u001b[0mdiff_apple\u001b[0m \u001b[1;33m,\u001b[0m \u001b[0mautolag\u001b[0m \u001b[1;33m=\u001b[0m \u001b[1;34m'AIC'\u001b[0m\u001b[1;33m)\u001b[0m\u001b[1;33m\u001b[0m\u001b[1;33m\u001b[0m\u001b[0m\n\u001b[0m\u001b[0;32m      2\u001b[0m \u001b[0mdfout\u001b[0m \u001b[1;33m=\u001b[0m \u001b[0mpd\u001b[0m\u001b[1;33m.\u001b[0m\u001b[0mSeries\u001b[0m\u001b[1;33m(\u001b[0m\u001b[0mdftest\u001b[0m\u001b[1;33m[\u001b[0m\u001b[1;36m0\u001b[0m\u001b[1;33m:\u001b[0m\u001b[1;36m4\u001b[0m\u001b[1;33m]\u001b[0m \u001b[1;33m,\u001b[0m \u001b[0mindex\u001b[0m \u001b[1;33m=\u001b[0m \u001b[1;33m[\u001b[0m\u001b[1;34m'test statistics'\u001b[0m\u001b[1;33m,\u001b[0m\u001b[1;34m'p_value'\u001b[0m\u001b[1;33m,\u001b[0m\u001b[1;34m'lags_used'\u001b[0m\u001b[1;33m,\u001b[0m\u001b[1;34m'no. of observation'\u001b[0m\u001b[1;33m]\u001b[0m\u001b[1;33m)\u001b[0m\u001b[1;33m\u001b[0m\u001b[1;33m\u001b[0m\u001b[0m\n\u001b[0;32m      3\u001b[0m \u001b[1;32mfor\u001b[0m \u001b[0mkey\u001b[0m \u001b[1;33m,\u001b[0m \u001b[0mvalue\u001b[0m \u001b[1;32min\u001b[0m \u001b[0mdftest\u001b[0m\u001b[1;33m[\u001b[0m\u001b[1;36m4\u001b[0m\u001b[1;33m]\u001b[0m\u001b[1;33m.\u001b[0m\u001b[0mitems\u001b[0m\u001b[1;33m(\u001b[0m\u001b[1;33m)\u001b[0m\u001b[1;33m:\u001b[0m\u001b[1;33m\u001b[0m\u001b[1;33m\u001b[0m\u001b[0m\n\u001b[0;32m      4\u001b[0m     \u001b[0mdfout\u001b[0m\u001b[1;33m[\u001b[0m\u001b[1;34mf'ccritical Value {key}'\u001b[0m\u001b[1;33m]\u001b[0m \u001b[1;33m=\u001b[0m \u001b[0mvalue\u001b[0m\u001b[1;33m\u001b[0m\u001b[1;33m\u001b[0m\u001b[0m\n\u001b[0;32m      5\u001b[0m \u001b[0mdfout\u001b[0m\u001b[1;33m\u001b[0m\u001b[1;33m\u001b[0m\u001b[0m\n",
      "\u001b[1;31mNameError\u001b[0m: name 'adfuller' is not defined"
     ]
    }
   ],
   "source": [
    "dftest = adfuller(diff_apple , autolag = 'AIC')\n",
    "dfout = pd.Series(dftest[0:4] , index = ['test statistics','p_value','lags_used','no. of observation'])\n",
    "for key , value in dftest[4].items():\n",
    "    dfout[f'ccritical Value {key}'] = value\n",
    "dfout"
   ]
  },
  {
   "cell_type": "code",
   "execution_count": 212,
   "id": "f96d7f35",
   "metadata": {},
   "outputs": [],
   "source": [
    "# now to check seasonality\n",
    "from statsmodels.tsa.seasonal import seasonal_decompose"
   ]
  },
  {
   "cell_type": "code",
   "execution_count": 213,
   "id": "f99393c2",
   "metadata": {},
   "outputs": [],
   "source": [
    "decomposition = seasonal_decompose(apple_month)"
   ]
  },
  {
   "cell_type": "code",
   "execution_count": null,
   "id": "49bd0d5f",
   "metadata": {},
   "outputs": [],
   "source": []
  },
  {
   "cell_type": "code",
   "execution_count": null,
   "id": "9550178b",
   "metadata": {},
   "outputs": [],
   "source": []
  },
  {
   "cell_type": "code",
   "execution_count": 214,
   "id": "1011b966",
   "metadata": {},
   "outputs": [],
   "source": [
    "trend = decomposition.trend\n",
    "seasonal = decomposition.seasonal\n",
    "residual = decomposition.resid"
   ]
  },
  {
   "cell_type": "code",
   "execution_count": 215,
   "id": "ed05ba44",
   "metadata": {},
   "outputs": [
    {
     "data": {
      "text/plain": [
       "<matplotlib.legend.Legend at 0x2aeddd7d970>"
      ]
     },
     "execution_count": 215,
     "metadata": {},
     "output_type": "execute_result"
    },
    {
     "data": {
      "image/png": "[encoded data removed]",
      "text/plain": [
       "<Figure size 432x288 with 2 Axes>"
      ]
     },
     "metadata": {
      "needs_background": "light"
     },
     "output_type": "display_data"
    }
   ],
   "source": [
    "plt.subplot(211)\n",
    "plt.plot(trend , label = 'trend' , color = 'red')\n",
    "plt.legend()\n",
    "plt.subplot(212)\n",
    "plt.plot(apple_month , label = 'stock',color = 'blue')\n",
    "plt.legend()"
   ]
  },
  {
   "cell_type": "code",
   "execution_count": 216,
   "id": "ee657731",
   "metadata": {},
   "outputs": [
    {
     "data": {
      "text/plain": [
       "<matplotlib.legend.Legend at 0x2aedde39670>"
      ]
     },
     "execution_count": 216,
     "metadata": {},
     "output_type": "execute_result"
    },
    {
     "data": {
      "image/png": "[encoded data removed]",
      "text/plain": [
       "<Figure size 432x288 with 2 Axes>"
      ]
     },
     "metadata": {
      "needs_background": "light"
     },
     "output_type": "display_data"
    }
   ],
   "source": [
    "plt.subplot(211)\n",
    "plt.plot(seasonal , label = 'seasonal',color = 'blue')\n",
    "plt.legend()\n",
    "plt.subplot(212)\n",
    "plt.plot(residual , label = 'residual',color = 'red')\n",
    "plt.legend()"
   ]
  },
  {
   "cell_type": "markdown",
   "id": "56c5e144",
   "metadata": {},
   "source": [
    "# cheching the graph for differ_apple"
   ]
  },
  {
   "cell_type": "code",
   "execution_count": 217,
   "id": "dc22ec89",
   "metadata": {},
   "outputs": [],
   "source": [
    "decomposition = seasonal_decompose(diff_apple)\n",
    "trend = decomposition.trend\n",
    "seasonal = decomposition.seasonal\n",
    "residual = decomposition.resid\n"
   ]
  },
  {
   "cell_type": "code",
   "execution_count": 218,
   "id": "9e4cb8f9",
   "metadata": {},
   "outputs": [
    {
     "data": {
      "text/plain": [
       "<matplotlib.legend.Legend at 0x2aeddeecf40>"
      ]
     },
     "execution_count": 218,
     "metadata": {},
     "output_type": "execute_result"
    },
    {
     "data": {
      "image/png": "[encoded data removed]",
      "text/plain": [
       "<Figure size 432x288 with 2 Axes>"
      ]
     },
     "metadata": {
      "needs_background": "light"
     },
     "output_type": "display_data"
    }
   ],
   "source": [
    "plt.subplot(211)\n",
    "plt.plot(trend , label = 'trend' , color = 'red')\n",
    "plt.legend()\n",
    "plt.subplot(212)\n",
    "plt.plot(apple_month , label = 'stock',color = 'blue')\n",
    "plt.legend()"
   ]
  },
  {
   "cell_type": "code",
   "execution_count": 219,
   "id": "72a79345",
   "metadata": {},
   "outputs": [
    {
     "data": {
      "text/plain": [
       "<matplotlib.legend.Legend at 0x2aeddf962b0>"
      ]
     },
     "execution_count": 219,
     "metadata": {},
     "output_type": "execute_result"
    },
    {
     "data": {
      "image/png": "[encoded data removed]",
      "text/plain": [
       "<Figure size 432x288 with 2 Axes>"
      ]
     },
     "metadata": {
      "needs_background": "light"
     },
     "output_type": "display_data"
    }
   ],
   "source": [
    "plt.subplot(211)\n",
    "plt.plot(seasonal , label = 'seasonal',color = 'blue')\n",
    "plt.legend()\n",
    "plt.subplot(212)\n",
    "plt.plot(residual , label = 'residual',color = 'red')\n",
    "plt.legend()"
   ]
  },
  {
   "cell_type": "code",
   "execution_count": 1,
   "id": "4d8e4dc6",
   "metadata": {},
   "outputs": [],
   "source": [
    "from statsmodels.tsa.stattools import acf , pacf\n"
   ]
  },
  {
   "cell_type": "code",
   "execution_count": 221,
   "id": "c5892b01",
   "metadata": {},
   "outputs": [
    {
     "name": "stderr",
     "output_type": "stream",
     "text": [
      "C:\\Users\\sidhanth\\anaconda3\\lib\\site-packages\\statsmodels\\tsa\\stattools.py:667: FutureWarning: fft=True will become the default after the release of the 0.12 release of statsmodels. To suppress this warning, explicitly set fft=False.\n",
      "  warnings.warn(\n"
     ]
    }
   ],
   "source": [
    "lag_acf = acf(diff_apple, nlags = 5)\n",
    "lag_pacf = pacf(diff_apple , nlags = 5, method = 'ols')\n"
   ]
  },
  {
   "cell_type": "code",
   "execution_count": 222,
   "id": "ae81261c",
   "metadata": {},
   "outputs": [
    {
     "data": {
      "text/plain": [
       "[<matplotlib.lines.Line2D at 0x2aede041520>]"
      ]
     },
     "execution_count": 222,
     "metadata": {},
     "output_type": "execute_result"
    },
    {
     "data": {
      "image/png": "[encoded data removed]",
      "text/plain": [
       "<Figure size 432x288 with 1 Axes>"
      ]
     },
     "metadata": {
      "needs_background": "light"
     },
     "output_type": "display_data"
    }
   ],
   "source": [
    "plt.plot(lag_acf) # correlation lag"
   ]
  },
  {
   "cell_type": "code",
   "execution_count": 223,
   "id": "ed4eaa01",
   "metadata": {},
   "outputs": [
    {
     "data": {
      "text/plain": [
       "[<matplotlib.lines.Line2D at 0x2aede0973a0>]"
      ]
     },
     "execution_count": 223,
     "metadata": {},
     "output_type": "execute_result"
    },
    {
     "data": {
      "image/png": "[encoded data removed]",
      "text/plain": [
       "<Figure size 432x288 with 1 Axes>"
      ]
     },
     "metadata": {
      "needs_background": "light"
     },
     "output_type": "display_data"
    }
   ],
   "source": [
    "plt.plot(lag_pacf) # moving average"
   ]
  },
  {
   "cell_type": "code",
   "execution_count": 224,
   "id": "3331c22d",
   "metadata": {},
   "outputs": [],
   "source": [
    "from statsmodels.tsa.arima_model import ARIMA"
   ]
  },
  {
   "cell_type": "code",
   "execution_count": 225,
   "id": "ead34bb0",
   "metadata": {},
   "outputs": [
    {
     "name": "stderr",
     "output_type": "stream",
     "text": [
      "C:\\Users\\sidhanth\\anaconda3\\lib\\site-packages\\statsmodels\\tsa\\arima_model.py:472: FutureWarning: \n",
      "statsmodels.tsa.arima_model.ARMA and statsmodels.tsa.arima_model.ARIMA have\n",
      "been deprecated in favor of statsmodels.tsa.arima.model.ARIMA (note the .\n",
      "between arima and model) and\n",
      "statsmodels.tsa.SARIMAX. These will be removed after the 0.12 release.\n",
      "\n",
      "statsmodels.tsa.arima.model.ARIMA makes use of the statespace framework and\n",
      "is both well tested and maintained.\n",
      "\n",
      "To silence this warning and continue using ARMA and ARIMA until they are\n",
      "removed, use:\n",
      "\n",
      "import warnings\n",
      "warnings.filterwarnings('ignore', 'statsmodels.tsa.arima_model.ARMA',\n",
      "                        FutureWarning)\n",
      "warnings.filterwarnings('ignore', 'statsmodels.tsa.arima_model.ARIMA',\n",
      "                        FutureWarning)\n",
      "\n",
      "  warnings.warn(ARIMA_DEPRECATION_WARN, FutureWarning)\n"
     ]
    }
   ],
   "source": [
    "model = ARIMA(apple_month ,order = (1,1,1))\n"
   ]
  },
  {
   "cell_type": "code",
   "execution_count": 226,
   "id": "691b15fb",
   "metadata": {},
   "outputs": [
    {
     "name": "stderr",
     "output_type": "stream",
     "text": [
      "C:\\Users\\sidhanth\\anaconda3\\lib\\site-packages\\statsmodels\\tsa\\arima_model.py:472: FutureWarning: \n",
      "statsmodels.tsa.arima_model.ARMA and statsmodels.tsa.arima_model.ARIMA have\n",
      "been deprecated in favor of statsmodels.tsa.arima.model.ARIMA (note the .\n",
      "between arima and model) and\n",
      "statsmodels.tsa.SARIMAX. These will be removed after the 0.12 release.\n",
      "\n",
      "statsmodels.tsa.arima.model.ARIMA makes use of the statespace framework and\n",
      "is both well tested and maintained.\n",
      "\n",
      "To silence this warning and continue using ARMA and ARIMA until they are\n",
      "removed, use:\n",
      "\n",
      "import warnings\n",
      "warnings.filterwarnings('ignore', 'statsmodels.tsa.arima_model.ARMA',\n",
      "                        FutureWarning)\n",
      "warnings.filterwarnings('ignore', 'statsmodels.tsa.arima_model.ARIMA',\n",
      "                        FutureWarning)\n",
      "\n",
      "  warnings.warn(ARIMA_DEPRECATION_WARN, FutureWarning)\n"
     ]
    },
    {
     "data": {
      "text/plain": [
       "Date\n",
       "2017-03-31    2.350084\n",
       "2017-04-30    2.246919\n",
       "2017-05-31    2.156297\n",
       "2017-06-30    2.414557\n",
       "2017-07-31    1.888077\n",
       "2017-08-31    2.255592\n",
       "2017-09-30    2.427864\n",
       "2017-10-31    1.980410\n",
       "2017-11-30    2.193479\n",
       "2017-12-31    2.595126\n",
       "2018-01-31    1.917565\n",
       "2018-02-28    2.311912\n",
       "2018-03-31    1.850286\n",
       "2018-04-30    2.469569\n",
       "2018-05-31    1.840269\n",
       "2018-06-30    2.774099\n",
       "2018-07-31    1.951284\n",
       "2018-08-31    2.291364\n",
       "2018-09-30    2.795521\n",
       "2018-10-31    2.147810\n",
       "2018-11-30    2.094544\n",
       "2018-12-31    1.183086\n",
       "2019-01-31    1.646310\n",
       "2019-02-28    2.010108\n",
       "2019-03-31    2.794707\n",
       "2019-04-30    2.210162\n",
       "2019-05-31    2.666075\n",
       "2019-06-30    1.616639\n",
       "2019-07-31    2.401180\n",
       "2019-08-31    2.403784\n",
       "2019-09-30    2.022361\n",
       "2019-10-31    2.600037\n",
       "2019-11-30    2.520455\n",
       "2019-12-31    2.849066\n",
       "2020-01-31    2.284434\n",
       "2020-02-29    3.222897\n",
       "2020-03-31    1.653007\n",
       "2020-04-30    0.763031\n",
       "2020-05-31    3.031780\n",
       "2020-06-30    2.976420\n",
       "2020-07-31    2.941275\n",
       "2020-08-31    2.979544\n",
       "2020-09-30    4.625393\n",
       "2020-10-31    0.793380\n",
       "2020-11-30    2.870361\n",
       "2020-12-31    1.872218\n",
       "2021-01-31    3.622900\n",
       "2021-02-28    2.253483\n",
       "2021-03-31    1.879845\n",
       "2021-04-30    0.992850\n",
       "2021-05-31    3.889455\n",
       "2021-06-30    0.764728\n",
       "2021-07-31    3.109367\n",
       "2021-08-31    3.701443\n",
       "2021-09-30    1.888529\n",
       "2021-10-31    2.257052\n",
       "2021-11-30    1.730845\n",
       "2021-12-31    3.410285\n",
       "2022-01-31    4.111787\n",
       "2022-02-28    0.842839\n",
       "Freq: M, dtype: float64"
      ]
     },
     "execution_count": 226,
     "metadata": {},
     "output_type": "execute_result"
    }
   ],
   "source": [
    "model.fit(disp = 1).fittedvalues"
   ]
  },
  {
   "cell_type": "code",
   "execution_count": 227,
   "id": "daf5495c",
   "metadata": {},
   "outputs": [],
   "source": [
    "from pandas.plotting import autocorrelation_plot"
   ]
  },
  {
   "cell_type": "code",
   "execution_count": 228,
   "id": "61a73dfa",
   "metadata": {},
   "outputs": [
    {
     "data": {
      "text/plain": [
       "<AxesSubplot:xlabel='Lag', ylabel='Autocorrelation'>"
      ]
     },
     "execution_count": 228,
     "metadata": {},
     "output_type": "execute_result"
    },
    {
     "data": {
      "image/png": "[encoded data removed]",
      "text/plain": [
       "<Figure size 432x288 with 1 Axes>"
      ]
     },
     "metadata": {
      "needs_background": "light"
     },
     "output_type": "display_data"
    }
   ],
   "source": [
    "autocorrelation_plot(apple_month)"
   ]
  },
  {
   "cell_type": "code",
   "execution_count": 229,
   "id": "8946dde3",
   "metadata": {},
   "outputs": [
    {
     "data": {
      "text/html": [
       "<div>\n",
       "<style scoped>\n",
       "    .dataframe tbody tr th:only-of-type {\n",
       "        vertical-align: middle;\n",
       "    }\n",
       "\n",
       "    .dataframe tbody tr th {\n",
       "        vertical-align: top;\n",
       "    }\n",
       "\n",
       "    .dataframe thead th {\n",
       "        text-align: right;\n",
       "    }\n",
       "</style>\n",
       "<table border=\"1\" class=\"dataframe\">\n",
       "  <thead>\n",
       "    <tr style=\"text-align: right;\">\n",
       "      <th></th>\n",
       "      <th>close</th>\n",
       "      <th>volume</th>\n",
       "      <th>open</th>\n",
       "      <th>high</th>\n",
       "      <th>low</th>\n",
       "    </tr>\n",
       "    <tr>\n",
       "      <th>Date</th>\n",
       "      <th></th>\n",
       "      <th></th>\n",
       "      <th></th>\n",
       "      <th></th>\n",
       "      <th></th>\n",
       "    </tr>\n",
       "  </thead>\n",
       "  <tbody>\n",
       "    <tr>\n",
       "      <th>2017-02-07</th>\n",
       "      <td>33.0</td>\n",
       "      <td>152633640</td>\n",
       "      <td>32.635</td>\n",
       "      <td>33.0225</td>\n",
       "      <td>32.6125</td>\n",
       "    </tr>\n",
       "    <tr>\n",
       "      <th>2017-02-08</th>\n",
       "      <td>33.0</td>\n",
       "      <td>91766600</td>\n",
       "      <td>32.8375</td>\n",
       "      <td>33.055</td>\n",
       "      <td>32.805</td>\n",
       "    </tr>\n",
       "    <tr>\n",
       "      <th>2017-02-09</th>\n",
       "      <td>33.0</td>\n",
       "      <td>113285760</td>\n",
       "      <td>32.9125</td>\n",
       "      <td>33.1112</td>\n",
       "      <td>32.78</td>\n",
       "    </tr>\n",
       "    <tr>\n",
       "      <th>2017-02-10</th>\n",
       "      <td>33.0</td>\n",
       "      <td>80185000</td>\n",
       "      <td>33.115</td>\n",
       "      <td>33.235</td>\n",
       "      <td>33.0125</td>\n",
       "    </tr>\n",
       "    <tr>\n",
       "      <th>2017-02-13</th>\n",
       "      <td>33.0</td>\n",
       "      <td>91959920</td>\n",
       "      <td>33.27</td>\n",
       "      <td>33.455</td>\n",
       "      <td>33.1875</td>\n",
       "    </tr>\n",
       "    <tr>\n",
       "      <th>...</th>\n",
       "      <td>...</td>\n",
       "      <td>...</td>\n",
       "      <td>...</td>\n",
       "      <td>...</td>\n",
       "      <td>...</td>\n",
       "    </tr>\n",
       "    <tr>\n",
       "      <th>2022-01-31</th>\n",
       "      <td>175.0</td>\n",
       "      <td>115541600</td>\n",
       "      <td>170.16</td>\n",
       "      <td>175</td>\n",
       "      <td>169.51</td>\n",
       "    </tr>\n",
       "    <tr>\n",
       "      <th>2022-02-01</th>\n",
       "      <td>175.0</td>\n",
       "      <td>86213910</td>\n",
       "      <td>174.01</td>\n",
       "      <td>174.84</td>\n",
       "      <td>172.31</td>\n",
       "    </tr>\n",
       "    <tr>\n",
       "      <th>2022-02-02</th>\n",
       "      <td>176.0</td>\n",
       "      <td>84914260</td>\n",
       "      <td>174.745</td>\n",
       "      <td>175.88</td>\n",
       "      <td>173.33</td>\n",
       "    </tr>\n",
       "    <tr>\n",
       "      <th>2022-02-03</th>\n",
       "      <td>173.0</td>\n",
       "      <td>89418070</td>\n",
       "      <td>174.48</td>\n",
       "      <td>176.2399</td>\n",
       "      <td>172.12</td>\n",
       "    </tr>\n",
       "    <tr>\n",
       "      <th>2022-02-04</th>\n",
       "      <td>172.0</td>\n",
       "      <td>82465400</td>\n",
       "      <td>171.68</td>\n",
       "      <td>174.1</td>\n",
       "      <td>170.68</td>\n",
       "    </tr>\n",
       "  </tbody>\n",
       "</table>\n",
       "<p>1259 rows × 5 columns</p>\n",
       "</div>"
      ],
      "text/plain": [
       "            close     volume     open      high      low\n",
       "Date                                                    \n",
       "2017-02-07   33.0  152633640   32.635   33.0225  32.6125\n",
       "2017-02-08   33.0   91766600  32.8375    33.055   32.805\n",
       "2017-02-09   33.0  113285760  32.9125   33.1112    32.78\n",
       "2017-02-10   33.0   80185000   33.115    33.235  33.0125\n",
       "2017-02-13   33.0   91959920    33.27    33.455  33.1875\n",
       "...           ...        ...      ...       ...      ...\n",
       "2022-01-31  175.0  115541600   170.16       175   169.51\n",
       "2022-02-01  175.0   86213910   174.01    174.84   172.31\n",
       "2022-02-02  176.0   84914260  174.745    175.88   173.33\n",
       "2022-02-03  173.0   89418070   174.48  176.2399   172.12\n",
       "2022-02-04  172.0   82465400   171.68     174.1   170.68\n",
       "\n",
       "[1259 rows x 5 columns]"
      ]
     },
     "execution_count": 229,
     "metadata": {},
     "output_type": "execute_result"
    }
   ],
   "source": [
    "apple"
   ]
  },
  {
   "cell_type": "code",
   "execution_count": 230,
   "id": "67e90e5f",
   "metadata": {},
   "outputs": [],
   "source": [
    "federalbank = pd.read_csv('federalbank.csv' , parse_dates = ['date'],index_col = 'date')"
   ]
  },
  {
   "cell_type": "code",
   "execution_count": 231,
   "id": "a10d687f",
   "metadata": {},
   "outputs": [],
   "source": [
    "federal = federalbank['close']"
   ]
  },
  {
   "cell_type": "code",
   "execution_count": 232,
   "id": "88e99f70",
   "metadata": {},
   "outputs": [],
   "source": [
    "federal1 = federal.resample('D').mean()"
   ]
  },
  {
   "cell_type": "code",
   "execution_count": 233,
   "id": "179c97b6",
   "metadata": {},
   "outputs": [],
   "source": [
    "federal1.dropna(inplace = True)"
   ]
  },
  {
   "cell_type": "code",
   "execution_count": 234,
   "id": "f607dc2c",
   "metadata": {},
   "outputs": [
    {
     "data": {
      "text/plain": [
       "date\n",
       "2021-01-05    71.026\n",
       "2021-01-06    72.852\n",
       "2021-01-07    74.650\n",
       "2021-01-08    76.094\n",
       "2021-01-11    74.650\n",
       "               ...  \n",
       "2021-09-28    81.180\n",
       "2021-09-29    81.630\n",
       "2021-09-30    84.498\n",
       "2021-10-01    83.372\n",
       "2021-10-04    84.662\n",
       "Name: close, Length: 185, dtype: float64"
      ]
     },
     "execution_count": 234,
     "metadata": {},
     "output_type": "execute_result"
    }
   ],
   "source": [
    "federal1"
   ]
  },
  {
   "cell_type": "code",
   "execution_count": 235,
   "id": "e9b947d0",
   "metadata": {},
   "outputs": [],
   "source": [
    "from pandas.plotting import autocorrelation_plot"
   ]
  },
  {
   "cell_type": "code",
   "execution_count": 236,
   "id": "549f4fb2",
   "metadata": {},
   "outputs": [
    {
     "data": {
      "text/plain": [
       "<AxesSubplot:xlabel='Lag', ylabel='Autocorrelation'>"
      ]
     },
     "execution_count": 236,
     "metadata": {},
     "output_type": "execute_result"
    },
    {
     "data": {
      "image/png": "[encoded data removed]",
      "text/plain": [
       "<Figure size 432x288 with 1 Axes>"
      ]
     },
     "metadata": {
      "needs_background": "light"
     },
     "output_type": "display_data"
    }
   ],
   "source": [
    "autocorrelation_plot(federal1)"
   ]
  },
  {
   "cell_type": "code",
   "execution_count": 237,
   "id": "413e3a8d",
   "metadata": {
    "scrolled": true
   },
   "outputs": [
    {
     "data": {
      "text/plain": [
       "<AxesSubplot:xlabel='date'>"
      ]
     },
     "execution_count": 237,
     "metadata": {},
     "output_type": "execute_result"
    },
    {
     "data": {
      "image/png": "[encoded data removed]",
      "text/plain": [
       "<Figure size 432x288 with 1 Axes>"
      ]
     },
     "metadata": {
      "needs_background": "light"
     },
     "output_type": "display_data"
    }
   ],
   "source": [
    "federal1.plot()"
   ]
  },
  {
   "cell_type": "code",
   "execution_count": null,
   "id": "36b4bcbe",
   "metadata": {},
   "outputs": [],
   "source": []
  },
  {
   "cell_type": "code",
   "execution_count": 2,
   "id": "5a8c010d",
   "metadata": {},
   "outputs": [],
   "source": [
    "from statsmodels.graphics.tsaplots import plot_acf,plot_pacf"
   ]
  },
  {
   "cell_type": "code",
   "execution_count": 239,
   "id": "3e2b3954",
   "metadata": {},
   "outputs": [],
   "source": [
    "federal2 = federal1 - federal1.shift(1)\n",
    "federal2.dropna(inplace = True)"
   ]
  },
  {
   "cell_type": "code",
   "execution_count": 240,
   "id": "9567f5e7",
   "metadata": {},
   "outputs": [
    {
     "data": {
      "image/png": "[encoded data removed]",
      "text/plain": [
       "<Figure size 432x288 with 1 Axes>"
      ]
     },
     "execution_count": 240,
     "metadata": {},
     "output_type": "execute_result"
    },
    {
     "data": {
      "image/png": "[encoded data removed]",
      "text/plain": [
       "<Figure size 432x288 with 1 Axes>"
      ]
     },
     "metadata": {
      "needs_background": "light"
     },
     "output_type": "display_data"
    }
   ],
   "source": [
    "plot_acf(federal1)"
   ]
  },
  {
   "cell_type": "code",
   "execution_count": 241,
   "id": "92164760",
   "metadata": {},
   "outputs": [
    {
     "data": {
      "image/png": "[encoded data removed]",
      "text/plain": [
       "<Figure size 432x288 with 1 Axes>"
      ]
     },
     "execution_count": 241,
     "metadata": {},
     "output_type": "execute_result"
    },
    {
     "data": {
      "image/png": "[encoded data removed]",
      "text/plain": [
       "<Figure size 432x288 with 1 Axes>"
      ]
     },
     "metadata": {
      "needs_background": "light"
     },
     "output_type": "display_data"
    }
   ],
   "source": [
    "plot_acf(federal2)"
   ]
  },
  {
   "cell_type": "code",
   "execution_count": 242,
   "id": "fcacf414",
   "metadata": {},
   "outputs": [
    {
     "data": {
      "image/png": "[encoded data removed]",
      "text/plain": [
       "<Figure size 432x288 with 1 Axes>"
      ]
     },
     "execution_count": 242,
     "metadata": {},
     "output_type": "execute_result"
    },
    {
     "data": {
      "image/png": "[encoded data removed]",
      "text/plain": [
       "<Figure size 432x288 with 1 Axes>"
      ]
     },
     "metadata": {
      "needs_background": "light"
     },
     "output_type": "display_data"
    }
   ],
   "source": [
    "plot_pacf(federal1)"
   ]
  },
  {
   "cell_type": "code",
   "execution_count": 243,
   "id": "2eb76a95",
   "metadata": {},
   "outputs": [
    {
     "data": {
      "image/png": "[encoded data removed]",
      "text/plain": [
       "<Figure size 432x288 with 1 Axes>"
      ]
     },
     "execution_count": 243,
     "metadata": {},
     "output_type": "execute_result"
    },
    {
     "data": {
      "image/png": "[encoded data removed]",
      "text/plain": [
       "<Figure size 432x288 with 1 Axes>"
      ]
     },
     "metadata": {
      "needs_background": "light"
     },
     "output_type": "display_data"
    }
   ],
   "source": [
    "plot_pacf(federal2)"
   ]
  },
  {
   "cell_type": "code",
   "execution_count": 3,
   "id": "9d0bec13",
   "metadata": {},
   "outputs": [],
   "source": [
    "from statsmodels.tsa.arima.model import ARIMA"
   ]
  },
  {
   "cell_type": "code",
   "execution_count": 245,
   "id": "74df1bc0",
   "metadata": {},
   "outputs": [],
   "source": [
    "x = federal1.values\n",
    "train = x[0:160]\n",
    "test = x[160:-1]"
   ]
  },
  {
   "cell_type": "code",
   "execution_count": 246,
   "id": "a31874de",
   "metadata": {},
   "outputs": [
    {
     "data": {
      "text/plain": [
       "array([71.026     , 72.852     , 74.65      , 76.094     , 74.65      ,\n",
       "       75.106     , 76.61346154, 75.14230769, 74.378     , 71.906     ,\n",
       "       74.17      , 76.024     , 77.694     , 74.36      , 72.358     ,\n",
       "       70.654     , 71.47      , 73.412     , 74.452     , 79.844     ,\n",
       "       81.358     , 84.11      , 84.662     , 83.296     , 84.384     ,\n",
       "       82.66      , 83.234     , 83.5       , 84.968     , 85.396     ,\n",
       "       87.182     , 86.43076923, 85.22      , 81.15      , 81.522     ,\n",
       "       83.46875   , 86.756     , 83.794     , 83.44      , 83.312     ,\n",
       "       85.526     , 89.842     , 88.022     , 86.972     , 85.904     ,\n",
       "       85.796     , 86.278     , 82.442     , 83.658     , 81.578     ,\n",
       "       79.976     , 77.992     , 77.392     , 78.114     , 76.662     ,\n",
       "       74.654     , 76.914     , 76.872     , 76.104     , 77.66      ,\n",
       "       76.034     , 77.218     , 78.384     , 79.06      , 78.388     ,\n",
       "       72.412     , 74.374     , 75.344     , 76.482     , 72.132     ,\n",
       "       73.368     , 71.738     , 72.47      , 74.094     , 74.748     ,\n",
       "       76.716     , 77.776     , 81.224     , 78.788     , 80.91      ,\n",
       "       80.186     , 79.052     , 77.822     , 79.436     , 81.36      ,\n",
       "       82.716     , 80.428     , 81.564     , 84.658     , 84.35      ,\n",
       "       84.416     , 84.39      , 86.174     , 86.488     , 87.308     ,\n",
       "       87.502     , 88.3       , 87.74      , 86.02      , 86.77      ,\n",
       "       88.162     , 87.662     , 88.08      , 86.644     , 86.37      ,\n",
       "       85.572     , 86.242     , 84.944     , 86.286     , 85.356     ,\n",
       "       85.534     , 83.27      , 84.258     , 85.58      , 85.152     ,\n",
       "       84.648     , 85.526     , 86.538     , 86.8       , 87.156     ,\n",
       "       86.46      , 85.422     , 86.69      , 87.69      , 86.052     ,\n",
       "       86.712     , 85.502     , 89.7       , 89.242     , 89.558     ,\n",
       "       88.748     , 88.036     , 86.694     , 84.014     , 84.834     ,\n",
       "       84.542     , 86.48      , 87.458     , 85.584     , 85.744     ,\n",
       "       86.844     , 87.342     , 87.952     , 88.226     , 86.22884615,\n",
       "       86.322     , 87.482     , 87.166     , 85.046     , 85.626     ,\n",
       "       85.22      , 84.904     , 83.634     , 83.446     , 80.632     ,\n",
       "       78.964     , 79.7       , 80.46      , 79.232     , 78.14      ])"
      ]
     },
     "execution_count": 246,
     "metadata": {},
     "output_type": "execute_result"
    }
   ],
   "source": [
    "train"
   ]
  },
  {
   "cell_type": "code",
   "execution_count": 247,
   "id": "6d161243",
   "metadata": {},
   "outputs": [],
   "source": [
    "model = ARIMA(train , order = (3,1,3))"
   ]
  },
  {
   "cell_type": "code",
   "execution_count": 248,
   "id": "249c6943",
   "metadata": {},
   "outputs": [],
   "source": [
    "model_fit = model.fit()\n"
   ]
  },
  {
   "cell_type": "code",
   "execution_count": 249,
   "id": "14d54759",
   "metadata": {},
   "outputs": [],
   "source": [
    "y_hat = model_fit.predict(start = 160 , end = 185)"
   ]
  },
  {
   "cell_type": "code",
   "execution_count": 251,
   "id": "9f31e2d1",
   "metadata": {},
   "outputs": [
    {
     "data": {
      "text/plain": [
       "[<matplotlib.lines.Line2D at 0x2aedf4b7b80>]"
      ]
     },
     "execution_count": 251,
     "metadata": {},
     "output_type": "execute_result"
    },
    {
     "data": {
      "image/png": "[encoded data removed]",
      "text/plain": [
       "<Figure size 432x288 with 1 Axes>"
      ]
     },
     "metadata": {
      "needs_background": "light"
     },
     "output_type": "display_data"
    }
   ],
   "source": [
    "\n",
    "\n",
    "plt.plot(y_hat, label = 'pred')\n",
    "plt.legend()\n",
    "plt.plot(test)"
   ]
  },
  {
   "cell_type": "code",
   "execution_count": 252,
   "id": "a0cf7ee7",
   "metadata": {},
   "outputs": [
    {
     "data": {
      "text/plain": [
       "[<matplotlib.lines.Line2D at 0x2aedf50ccd0>]"
      ]
     },
     "execution_count": 252,
     "metadata": {},
     "output_type": "execute_result"
    },
    {
     "data": {
      "image/png": "[encoded data removed]",
      "text/plain": [
       "<Figure size 432x288 with 1 Axes>"
      ]
     },
     "metadata": {
      "needs_background": "light"
     },
     "output_type": "display_data"
    }
   ],
   "source": [
    "plt.plot(y_hat)"
   ]
  },
  {
   "cell_type": "code",
   "execution_count": 253,
   "id": "85e16284",
   "metadata": {},
   "outputs": [
    {
     "data": {
      "text/plain": [
       "[<matplotlib.lines.Line2D at 0x2aedf563e80>]"
      ]
     },
     "execution_count": 253,
     "metadata": {},
     "output_type": "execute_result"
    },
    {
     "data": {
      "image/png": "[encoded data removed]",
      "text/plain": [
       "<Figure size 432x288 with 1 Axes>"
      ]
     },
     "metadata": {
      "needs_background": "light"
     },
     "output_type": "display_data"
    }
   ],
   "source": [
    "plt.plot(test)"
   ]
  },
  {
   "cell_type": "code",
   "execution_count": 41,
   "id": "2962cd78",
   "metadata": {},
   "outputs": [
    {
     "ename": "AttributeError",
     "evalue": "'numpy.ndarray' object has no attribute 'values'",
     "output_type": "error",
     "traceback": [
      "\u001b[1;31m---------------------------------------------------------------------------\u001b[0m",
      "\u001b[1;31mAttributeError\u001b[0m                            Traceback (most recent call last)",
      "\u001b[1;32m<ipython-input-41-68813912efcf>\u001b[0m in \u001b[0;36m<module>\u001b[1;34m\u001b[0m\n\u001b[1;32m----> 1\u001b[1;33m \u001b[0my_hat\u001b[0m\u001b[1;33m.\u001b[0m\u001b[0mvalues\u001b[0m\u001b[1;33m\u001b[0m\u001b[1;33m\u001b[0m\u001b[0m\n\u001b[0m",
      "\u001b[1;31mAttributeError\u001b[0m: 'numpy.ndarray' object has no attribute 'values'"
     ]
    }
   ],
   "source": [
    "y_hat.values"
   ]
  },
  {
   "cell_type": "code",
   "execution_count": 254,
   "id": "9f3ab3f5",
   "metadata": {},
   "outputs": [
    {
     "ename": "AttributeError",
     "evalue": "'numpy.ndarray' object has no attribute 'values'",
     "output_type": "error",
     "traceback": [
      "\u001b[1;31m---------------------------------------------------------------------------\u001b[0m",
      "\u001b[1;31mAttributeError\u001b[0m                            Traceback (most recent call last)",
      "\u001b[1;32m<ipython-input-254-b416a9debd29>\u001b[0m in \u001b[0;36m<module>\u001b[1;34m\u001b[0m\n\u001b[1;32m----> 1\u001b[1;33m \u001b[0my_new\u001b[0m \u001b[1;33m=\u001b[0m \u001b[0mpd\u001b[0m\u001b[1;33m.\u001b[0m\u001b[0mDataFrame\u001b[0m\u001b[1;33m(\u001b[0m\u001b[0my_hat\u001b[0m\u001b[1;33m.\u001b[0m\u001b[0mvalues\u001b[0m\u001b[1;33m,\u001b[0m \u001b[0mindex\u001b[0m \u001b[1;33m=\u001b[0m \u001b[0mnp\u001b[0m\u001b[1;33m.\u001b[0m\u001b[0marange\u001b[0m\u001b[1;33m(\u001b[0m\u001b[0mlen\u001b[0m\u001b[1;33m(\u001b[0m\u001b[0my_hat\u001b[0m\u001b[1;33m)\u001b[0m\u001b[1;33m)\u001b[0m\u001b[1;33m)\u001b[0m\u001b[1;33m\u001b[0m\u001b[1;33m\u001b[0m\u001b[0m\n\u001b[0m",
      "\u001b[1;31mAttributeError\u001b[0m: 'numpy.ndarray' object has no attribute 'values'"
     ]
    }
   ],
   "source": [
    "y_new = pd.DataFrame(y_hat.values, index = np.arange(len(y_hat)))"
   ]
  },
  {
   "cell_type": "code",
   "execution_count": 43,
   "id": "10f530e9",
   "metadata": {},
   "outputs": [
    {
     "ename": "NameError",
     "evalue": "name 'plt' is not defined",
     "output_type": "error",
     "traceback": [
      "\u001b[1;31m---------------------------------------------------------------------------\u001b[0m",
      "\u001b[1;31mNameError\u001b[0m                                 Traceback (most recent call last)",
      "\u001b[1;32m<ipython-input-43-491157288af7>\u001b[0m in \u001b[0;36m<module>\u001b[1;34m\u001b[0m\n\u001b[1;32m----> 1\u001b[1;33m \u001b[0mplt\u001b[0m\u001b[1;33m.\u001b[0m\u001b[0mplot\u001b[0m\u001b[1;33m(\u001b[0m\u001b[0my_new\u001b[0m \u001b[1;33m,\u001b[0m \u001b[0mlabel\u001b[0m \u001b[1;33m=\u001b[0m \u001b[1;34m'predicted'\u001b[0m\u001b[1;33m)\u001b[0m\u001b[1;33m\u001b[0m\u001b[1;33m\u001b[0m\u001b[0m\n\u001b[0m\u001b[0;32m      2\u001b[0m \u001b[0mplt\u001b[0m\u001b[1;33m.\u001b[0m\u001b[0mlegend\u001b[0m\u001b[1;33m(\u001b[0m\u001b[1;33m)\u001b[0m\u001b[1;33m\u001b[0m\u001b[1;33m\u001b[0m\u001b[0m\n\u001b[0;32m      3\u001b[0m \u001b[0mplt\u001b[0m\u001b[1;33m.\u001b[0m\u001b[0mplot\u001b[0m\u001b[1;33m(\u001b[0m\u001b[0mtest\u001b[0m \u001b[1;33m,\u001b[0m \u001b[0mlabel\u001b[0m \u001b[1;33m=\u001b[0m \u001b[1;34m'test'\u001b[0m\u001b[1;33m)\u001b[0m\u001b[1;33m\u001b[0m\u001b[1;33m\u001b[0m\u001b[0m\n\u001b[0;32m      4\u001b[0m \u001b[0mplt\u001b[0m\u001b[1;33m.\u001b[0m\u001b[0mlegend\u001b[0m\u001b[1;33m(\u001b[0m\u001b[1;33m)\u001b[0m\u001b[1;33m\u001b[0m\u001b[1;33m\u001b[0m\u001b[0m\n",
      "\u001b[1;31mNameError\u001b[0m: name 'plt' is not defined"
     ]
    }
   ],
   "source": [
    "plt.plot(y_new , label = 'predicted')\n",
    "plt.legend()\n",
    "plt.plot(test , label = 'test')\n",
    "plt.legend()"
   ]
  },
  {
   "cell_type": "markdown",
   "id": "d414410c",
   "metadata": {},
   "source": [
    "y_hat = model_fit.predict(start = 160 , end = 185)"
   ]
  },
  {
   "cell_type": "code",
   "execution_count": 44,
   "id": "254ffae8",
   "metadata": {},
   "outputs": [],
   "source": [
    "\n",
    "y_hat = model_fit.forecast(25)"
   ]
  },
  {
   "cell_type": "code",
   "execution_count": 45,
   "id": "f5266c51",
   "metadata": {},
   "outputs": [
    {
     "ename": "AttributeError",
     "evalue": "'numpy.ndarray' object has no attribute 'values'",
     "output_type": "error",
     "traceback": [
      "\u001b[1;31m---------------------------------------------------------------------------\u001b[0m",
      "\u001b[1;31mAttributeError\u001b[0m                            Traceback (most recent call last)",
      "\u001b[1;32m<ipython-input-45-142b37c53bae>\u001b[0m in \u001b[0;36m<module>\u001b[1;34m\u001b[0m\n\u001b[0;32m      1\u001b[0m \u001b[0my_hat\u001b[0m\u001b[1;33m\u001b[0m\u001b[1;33m\u001b[0m\u001b[0m\n\u001b[1;32m----> 2\u001b[1;33m \u001b[0my_new\u001b[0m \u001b[1;33m=\u001b[0m \u001b[0mpd\u001b[0m\u001b[1;33m.\u001b[0m\u001b[0mDataFrame\u001b[0m\u001b[1;33m(\u001b[0m\u001b[0my_hat\u001b[0m\u001b[1;33m.\u001b[0m\u001b[0mvalues\u001b[0m\u001b[1;33m,\u001b[0m \u001b[0mindex\u001b[0m \u001b[1;33m=\u001b[0m \u001b[0mnp\u001b[0m\u001b[1;33m.\u001b[0m\u001b[0marange\u001b[0m\u001b[1;33m(\u001b[0m\u001b[0mlen\u001b[0m\u001b[1;33m(\u001b[0m\u001b[0my_hat\u001b[0m\u001b[1;33m)\u001b[0m\u001b[1;33m)\u001b[0m\u001b[1;33m)\u001b[0m\u001b[1;33m\u001b[0m\u001b[1;33m\u001b[0m\u001b[0m\n\u001b[0m\u001b[0;32m      3\u001b[0m \u001b[0mplt\u001b[0m\u001b[1;33m.\u001b[0m\u001b[0mplot\u001b[0m\u001b[1;33m(\u001b[0m\u001b[0mtest\u001b[0m\u001b[1;33m)\u001b[0m\u001b[1;33m\u001b[0m\u001b[1;33m\u001b[0m\u001b[0m\n\u001b[0;32m      4\u001b[0m \u001b[0mplt\u001b[0m\u001b[1;33m.\u001b[0m\u001b[0mplot\u001b[0m\u001b[1;33m(\u001b[0m\u001b[0my_new\u001b[0m\u001b[1;33m)\u001b[0m\u001b[1;33m\u001b[0m\u001b[1;33m\u001b[0m\u001b[0m\n",
      "\u001b[1;31mAttributeError\u001b[0m: 'numpy.ndarray' object has no attribute 'values'"
     ]
    }
   ],
   "source": [
    "y_hat\n",
    "y_new = pd.DataFrame(y_hat.values, index = np.arange(len(y_hat)))\n",
    "plt.plot(test)\n",
    "plt.plot(y_new)\n"
   ]
  },
  {
   "cell_type": "code",
   "execution_count": 46,
   "id": "a5cf0314",
   "metadata": {},
   "outputs": [],
   "source": [
    "# but if we want to do it iteratively then"
   ]
  },
  {
   "cell_type": "code",
   "execution_count": null,
   "id": "f03ca598",
   "metadata": {},
   "outputs": [],
   "source": [
    "test"
   ]
  },
  {
   "cell_type": "code",
   "execution_count": null,
   "id": "f4f8a57c",
   "metadata": {},
   "outputs": [],
   "source": [
    "test[1]"
   ]
  },
  {
   "cell_type": "code",
   "execution_count": 52,
   "id": "e6687c12",
   "metadata": {},
   "outputs": [
    {
     "data": {
      "text/plain": [
       "array([71.026     , 72.852     , 74.65      , 76.094     , 74.65      ,\n",
       "       75.106     , 76.61346154, 75.14230769, 74.378     , 71.906     ,\n",
       "       74.17      , 76.024     , 77.694     , 74.36      , 72.358     ,\n",
       "       70.654     , 71.47      , 73.412     , 74.452     , 79.844     ,\n",
       "       81.358     , 84.11      , 84.662     , 83.296     , 84.384     ,\n",
       "       82.66      , 83.234     , 83.5       , 84.968     , 85.396     ,\n",
       "       87.182     , 86.43076923, 85.22      , 81.15      , 81.522     ,\n",
       "       83.46875   , 86.756     , 83.794     , 83.44      , 83.312     ,\n",
       "       85.526     , 89.842     , 88.022     , 86.972     , 85.904     ,\n",
       "       85.796     , 86.278     , 82.442     , 83.658     , 81.578     ,\n",
       "       79.976     , 77.992     , 77.392     , 78.114     , 76.662     ,\n",
       "       74.654     , 76.914     , 76.872     , 76.104     , 77.66      ,\n",
       "       76.034     , 77.218     , 78.384     , 79.06      , 78.388     ,\n",
       "       72.412     , 74.374     , 75.344     , 76.482     , 72.132     ,\n",
       "       73.368     , 71.738     , 72.47      , 74.094     , 74.748     ,\n",
       "       76.716     , 77.776     , 81.224     , 78.788     , 80.91      ,\n",
       "       80.186     , 79.052     , 77.822     , 79.436     , 81.36      ,\n",
       "       82.716     , 80.428     , 81.564     , 84.658     , 84.35      ,\n",
       "       84.416     , 84.39      , 86.174     , 86.488     , 87.308     ,\n",
       "       87.502     , 88.3       , 87.74      , 86.02      , 86.77      ,\n",
       "       88.162     , 87.662     , 88.08      , 86.644     , 86.37      ,\n",
       "       85.572     , 86.242     , 84.944     , 86.286     , 85.356     ,\n",
       "       85.534     , 83.27      , 84.258     , 85.58      , 85.152     ,\n",
       "       84.648     , 85.526     , 86.538     , 86.8       , 87.156     ,\n",
       "       86.46      , 85.422     , 86.69      , 87.69      , 86.052     ,\n",
       "       86.712     , 85.502     , 89.7       , 89.242     , 89.558     ,\n",
       "       88.748     , 88.036     , 86.694     , 84.014     , 84.834     ,\n",
       "       84.542     , 86.48      , 87.458     , 85.584     , 85.744     ,\n",
       "       86.844     , 87.342     , 87.952     , 88.226     , 86.22884615,\n",
       "       86.322     , 87.482     , 87.166     , 85.046     , 85.626     ,\n",
       "       85.22      , 84.904     , 83.634     , 83.446     , 80.632     ,\n",
       "       78.964     , 79.7       , 80.46      , 79.232     , 78.14      ,\n",
       "       79.654     , 81.018     , 82.588     , 82.882     , 82.868     ,\n",
       "       82.848     , 81.66      , 82.672     , 82.45      , 81.976     ,\n",
       "       82.4       , 82.922     , 84.764     , 84.2       , 81.482     ,\n",
       "       79.206     , 80.906     , 81.834     , 81.22      , 81.548     ,\n",
       "       81.18      , 81.63      , 84.498     , 83.372     ])"
      ]
     },
     "execution_count": 52,
     "metadata": {},
     "output_type": "execute_result"
    }
   ],
   "source": [
    "history"
   ]
  },
  {
   "cell_type": "code",
   "execution_count": 58,
   "id": "c3860d6c",
   "metadata": {},
   "outputs": [],
   "source": [
    "predictions = []\n",
    "history = train\n",
    "for i in range(0,len(test)):\n",
    "    model = ARIMA(history, order = (3,1,3))\n",
    "    model_fit = model.fit()\n",
    "    predictions.append(model_fit.forecast())\n",
    "    history = np.append(history ,test[i])\n",
    "    \n",
    "    \n",
    "    "
   ]
  },
  {
   "cell_type": "code",
   "execution_count": 4,
   "id": "0e6ab3b8",
   "metadata": {},
   "outputs": [],
   "source": [
    "import matplotlib.pyplot as plt"
   ]
  },
  {
   "cell_type": "code",
   "execution_count": 59,
   "id": "586062de",
   "metadata": {},
   "outputs": [
    {
     "data": {
      "text/plain": [
       "[<matplotlib.lines.Line2D at 0x2aedae01d30>]"
      ]
     },
     "execution_count": 59,
     "metadata": {},
     "output_type": "execute_result"
    },
    {
     "data": {
      "image/png": "[encoded data removed]",
      "text/plain": [
       "<Figure size 432x288 with 1 Axes>"
      ]
     },
     "metadata": {
      "needs_background": "light"
     },
     "output_type": "display_data"
    }
   ],
   "source": [
    "plt.plot(predictions)"
   ]
  },
  {
   "cell_type": "code",
   "execution_count": 57,
   "id": "df4e8b41",
   "metadata": {},
   "outputs": [
    {
     "data": {
      "text/plain": [
       "[<matplotlib.lines.Line2D at 0x2aed900e9a0>]"
      ]
     },
     "execution_count": 57,
     "metadata": {},
     "output_type": "execute_result"
    },
    {
     "data": {
      "image/png": "[encoded data removed]",
      "text/plain": [
       "<Figure size 432x288 with 1 Axes>"
      ]
     },
     "metadata": {
      "needs_background": "light"
     },
     "output_type": "display_data"
    }
   ],
   "source": [
    "plt.plot(test)"
   ]
  },
  {
   "cell_type": "code",
   "execution_count": null,
   "id": "aec3e8da",
   "metadata": {},
   "outputs": [],
   "source": []
  },
  {
   "cell_type": "code",
   "execution_count": null,
   "id": "85950648",
   "metadata": {},
   "outputs": [],
   "source": [
    "history"
   ]
  },
  {
   "cell_type": "code",
   "execution_count": null,
   "id": "5038efb2",
   "metadata": {},
   "outputs": [],
   "source": [
    "len(train)"
   ]
  },
  {
   "cell_type": "code",
   "execution_count": null,
   "id": "6d85cc49",
   "metadata": {},
   "outputs": [],
   "source": [
    "test[0]"
   ]
  },
  {
   "cell_type": "code",
   "execution_count": null,
   "id": "38b59cef",
   "metadata": {},
   "outputs": [],
   "source": [
    "for i in range(0,len(test)):\n",
    "    print(i)"
   ]
  },
  {
   "cell_type": "code",
   "execution_count": 11,
   "id": "d57dce1e",
   "metadata": {},
   "outputs": [
    {
     "ename": "NameError",
     "evalue": "name 'predictions' is not defined",
     "output_type": "error",
     "traceback": [
      "\u001b[1;31m---------------------------------------------------------------------------\u001b[0m",
      "\u001b[1;31mNameError\u001b[0m                                 Traceback (most recent call last)",
      "\u001b[1;32m<ipython-input-11-fd2951b82103>\u001b[0m in \u001b[0;36m<module>\u001b[1;34m\u001b[0m\n\u001b[1;32m----> 1\u001b[1;33m \u001b[0mpredictions\u001b[0m\u001b[1;33m\u001b[0m\u001b[1;33m\u001b[0m\u001b[0m\n\u001b[0m",
      "\u001b[1;31mNameError\u001b[0m: name 'predictions' is not defined"
     ]
    }
   ],
   "source": [
    "predictions"
   ]
  },
  {
   "cell_type": "code",
   "execution_count": 7,
   "id": "1b6b787c",
   "metadata": {},
   "outputs": [],
   "source": [
    "import pandas as pd"
   ]
  },
  {
   "cell_type": "code",
   "execution_count": 8,
   "id": "1e16db36",
   "metadata": {},
   "outputs": [],
   "source": [
    "sunpharma = pd.read_csv('sunpharma.csv')"
   ]
  },
  {
   "cell_type": "code",
   "execution_count": 9,
   "id": "6ccef033",
   "metadata": {},
   "outputs": [],
   "source": [
    "sunpharma['date'] = pd.to_datetime(sunpharma['date'])"
   ]
  },
  {
   "cell_type": "code",
   "execution_count": 10,
   "id": "6892ea5c",
   "metadata": {},
   "outputs": [],
   "source": [
    "sunpharma.index = sunpharma['date']"
   ]
  },
  {
   "cell_type": "code",
   "execution_count": 11,
   "id": "225f402e",
   "metadata": {},
   "outputs": [],
   "source": [
    "train = sunpharma['2021-01':'2021-11']\n",
    "test = sunpharma['2021-12': ]\n"
   ]
  },
  {
   "cell_type": "code",
   "execution_count": 80,
   "id": "14b75b3c",
   "metadata": {},
   "outputs": [
    {
     "data": {
      "text/html": [
       "<div>\n",
       "<style scoped>\n",
       "    .dataframe tbody tr th:only-of-type {\n",
       "        vertical-align: middle;\n",
       "    }\n",
       "\n",
       "    .dataframe tbody tr th {\n",
       "        vertical-align: top;\n",
       "    }\n",
       "\n",
       "    .dataframe thead th {\n",
       "        text-align: right;\n",
       "    }\n",
       "</style>\n",
       "<table border=\"1\" class=\"dataframe\">\n",
       "  <thead>\n",
       "    <tr style=\"text-align: right;\">\n",
       "      <th></th>\n",
       "      <th>date</th>\n",
       "      <th>date.1</th>\n",
       "      <th>open</th>\n",
       "      <th>high</th>\n",
       "      <th>low</th>\n",
       "      <th>close</th>\n",
       "      <th>volume</th>\n",
       "    </tr>\n",
       "    <tr>\n",
       "      <th>date</th>\n",
       "      <th></th>\n",
       "      <th></th>\n",
       "      <th></th>\n",
       "      <th></th>\n",
       "      <th></th>\n",
       "      <th></th>\n",
       "      <th></th>\n",
       "    </tr>\n",
       "  </thead>\n",
       "  <tbody>\n",
       "    <tr>\n",
       "      <th>2021-01-05</th>\n",
       "      <td>2021-01-05</td>\n",
       "      <td>2021-01-05</td>\n",
       "      <td>608.45</td>\n",
       "      <td>608.70</td>\n",
       "      <td>600.00</td>\n",
       "      <td>603.45</td>\n",
       "      <td>7790158</td>\n",
       "    </tr>\n",
       "    <tr>\n",
       "      <th>2021-01-06</th>\n",
       "      <td>2021-01-06</td>\n",
       "      <td>2021-01-06</td>\n",
       "      <td>604.10</td>\n",
       "      <td>610.95</td>\n",
       "      <td>596.15</td>\n",
       "      <td>605.30</td>\n",
       "      <td>6422080</td>\n",
       "    </tr>\n",
       "    <tr>\n",
       "      <th>2021-01-07</th>\n",
       "      <td>2021-01-07</td>\n",
       "      <td>2021-01-07</td>\n",
       "      <td>606.05</td>\n",
       "      <td>608.00</td>\n",
       "      <td>598.00</td>\n",
       "      <td>601.90</td>\n",
       "      <td>4555702</td>\n",
       "    </tr>\n",
       "    <tr>\n",
       "      <th>2021-01-08</th>\n",
       "      <td>2021-01-08</td>\n",
       "      <td>2021-01-08</td>\n",
       "      <td>607.00</td>\n",
       "      <td>622.80</td>\n",
       "      <td>604.00</td>\n",
       "      <td>620.80</td>\n",
       "      <td>11451416</td>\n",
       "    </tr>\n",
       "    <tr>\n",
       "      <th>2021-01-11</th>\n",
       "      <td>2021-01-11</td>\n",
       "      <td>2021-01-11</td>\n",
       "      <td>623.70</td>\n",
       "      <td>628.00</td>\n",
       "      <td>614.05</td>\n",
       "      <td>621.00</td>\n",
       "      <td>7516087</td>\n",
       "    </tr>\n",
       "    <tr>\n",
       "      <th>...</th>\n",
       "      <td>...</td>\n",
       "      <td>...</td>\n",
       "      <td>...</td>\n",
       "      <td>...</td>\n",
       "      <td>...</td>\n",
       "      <td>...</td>\n",
       "      <td>...</td>\n",
       "    </tr>\n",
       "    <tr>\n",
       "      <th>2021-11-24</th>\n",
       "      <td>2021-11-24</td>\n",
       "      <td>2021-11-24</td>\n",
       "      <td>783.50</td>\n",
       "      <td>796.95</td>\n",
       "      <td>775.55</td>\n",
       "      <td>778.95</td>\n",
       "      <td>2404041</td>\n",
       "    </tr>\n",
       "    <tr>\n",
       "      <th>2021-11-25</th>\n",
       "      <td>2021-11-25</td>\n",
       "      <td>2021-11-25</td>\n",
       "      <td>775.60</td>\n",
       "      <td>787.25</td>\n",
       "      <td>774.35</td>\n",
       "      <td>782.90</td>\n",
       "      <td>1861259</td>\n",
       "    </tr>\n",
       "    <tr>\n",
       "      <th>2021-11-26</th>\n",
       "      <td>2021-11-26</td>\n",
       "      <td>2021-11-26</td>\n",
       "      <td>775.00</td>\n",
       "      <td>798.90</td>\n",
       "      <td>762.00</td>\n",
       "      <td>767.30</td>\n",
       "      <td>5432649</td>\n",
       "    </tr>\n",
       "    <tr>\n",
       "      <th>2021-11-29</th>\n",
       "      <td>2021-11-29</td>\n",
       "      <td>2021-11-29</td>\n",
       "      <td>773.00</td>\n",
       "      <td>775.00</td>\n",
       "      <td>749.05</td>\n",
       "      <td>751.05</td>\n",
       "      <td>4664270</td>\n",
       "    </tr>\n",
       "    <tr>\n",
       "      <th>2021-11-30</th>\n",
       "      <td>2021-11-30</td>\n",
       "      <td>2021-11-30</td>\n",
       "      <td>751.00</td>\n",
       "      <td>761.65</td>\n",
       "      <td>746.05</td>\n",
       "      <td>753.60</td>\n",
       "      <td>5505266</td>\n",
       "    </tr>\n",
       "  </tbody>\n",
       "</table>\n",
       "<p>223 rows × 7 columns</p>\n",
       "</div>"
      ],
      "text/plain": [
       "                 date      date.1    open    high     low   close    volume\n",
       "date                                                                       \n",
       "2021-01-05 2021-01-05  2021-01-05  608.45  608.70  600.00  603.45   7790158\n",
       "2021-01-06 2021-01-06  2021-01-06  604.10  610.95  596.15  605.30   6422080\n",
       "2021-01-07 2021-01-07  2021-01-07  606.05  608.00  598.00  601.90   4555702\n",
       "2021-01-08 2021-01-08  2021-01-08  607.00  622.80  604.00  620.80  11451416\n",
       "2021-01-11 2021-01-11  2021-01-11  623.70  628.00  614.05  621.00   7516087\n",
       "...               ...         ...     ...     ...     ...     ...       ...\n",
       "2021-11-24 2021-11-24  2021-11-24  783.50  796.95  775.55  778.95   2404041\n",
       "2021-11-25 2021-11-25  2021-11-25  775.60  787.25  774.35  782.90   1861259\n",
       "2021-11-26 2021-11-26  2021-11-26  775.00  798.90  762.00  767.30   5432649\n",
       "2021-11-29 2021-11-29  2021-11-29  773.00  775.00  749.05  751.05   4664270\n",
       "2021-11-30 2021-11-30  2021-11-30  751.00  761.65  746.05  753.60   5505266\n",
       "\n",
       "[223 rows x 7 columns]"
      ]
     },
     "execution_count": 80,
     "metadata": {},
     "output_type": "execute_result"
    }
   ],
   "source": [
    "train"
   ]
  },
  {
   "cell_type": "code",
   "execution_count": 25,
   "id": "d911f70d",
   "metadata": {},
   "outputs": [],
   "source": [
    "train = train['close']"
   ]
  },
  {
   "cell_type": "code",
   "execution_count": 82,
   "id": "0d9de81a",
   "metadata": {},
   "outputs": [
    {
     "data": {
      "text/plain": [
       "date\n",
       "2021-01-05    603.45\n",
       "2021-01-06    605.30\n",
       "2021-01-07    601.90\n",
       "2021-01-08    620.80\n",
       "2021-01-11    621.00\n",
       "               ...  \n",
       "2021-11-24    778.95\n",
       "2021-11-25    782.90\n",
       "2021-11-26    767.30\n",
       "2021-11-29    751.05\n",
       "2021-11-30    753.60\n",
       "Name: close, Length: 223, dtype: float64"
      ]
     },
     "execution_count": 82,
     "metadata": {},
     "output_type": "execute_result"
    }
   ],
   "source": [
    "train"
   ]
  },
  {
   "cell_type": "code",
   "execution_count": 26,
   "id": "2aa94d0f",
   "metadata": {},
   "outputs": [],
   "source": [
    "test = test['close']"
   ]
  },
  {
   "cell_type": "code",
   "execution_count": 89,
   "id": "60a48619",
   "metadata": {},
   "outputs": [
    {
     "data": {
      "text/plain": [
       "date\n",
       "2021-01-05    603.45\n",
       "2021-01-06    605.30\n",
       "2021-01-07    601.90\n",
       "2021-01-08    620.80\n",
       "2021-01-11    621.00\n",
       "               ...  \n",
       "2021-12-27    794.10\n",
       "2021-12-28    815.10\n",
       "2021-12-29    838.80\n",
       "2021-12-30    834.45\n",
       "2021-12-31    845.70\n",
       "Name: close, Length: 246, dtype: float64"
      ]
     },
     "execution_count": 89,
     "metadata": {},
     "output_type": "execute_result"
    }
   ],
   "source": [
    "sunpharma['close']"
   ]
  },
  {
   "cell_type": "code",
   "execution_count": 110,
   "id": "af662e58",
   "metadata": {},
   "outputs": [
    {
     "data": {
      "text/plain": [
       "date\n",
       "2021-01-05    603.45\n",
       "2021-01-06    605.30\n",
       "2021-01-07    601.90\n",
       "2021-01-08    620.80\n",
       "2021-01-11    621.00\n",
       "               ...  \n",
       "2021-12-27    794.10\n",
       "2021-12-28    815.10\n",
       "2021-12-29    838.80\n",
       "2021-12-30    834.45\n",
       "2021-12-31    845.70\n",
       "Name: close, Length: 246, dtype: float64"
      ]
     },
     "execution_count": 110,
     "metadata": {},
     "output_type": "execute_result"
    }
   ],
   "source": [
    "sunpharma['close']"
   ]
  },
  {
   "cell_type": "code",
   "execution_count": 32,
   "id": "88b79138",
   "metadata": {},
   "outputs": [],
   "source": [
    "x =train - train.shift(1)\n",
    "x.dropna(inplace = True)"
   ]
  },
  {
   "cell_type": "code",
   "execution_count": 41,
   "id": "ad80dc44",
   "metadata": {},
   "outputs": [
    {
     "data": {
      "text/plain": [
       "[<matplotlib.lines.Line2D at 0x199aa8d1070>]"
      ]
     },
     "execution_count": 41,
     "metadata": {},
     "output_type": "execute_result"
    },
    {
     "data": {
      "image/png": "[encoded data removed]",
      "text/plain": [
       "<Figure size 432x288 with 1 Axes>"
      ]
     },
     "metadata": {
      "needs_background": "light"
     },
     "output_type": "display_data"
    }
   ],
   "source": [
    "plt.plot(pacf(x,nlags = 5))"
   ]
  },
  {
   "cell_type": "code",
   "execution_count": 42,
   "id": "7afb80bd",
   "metadata": {},
   "outputs": [
    {
     "name": "stderr",
     "output_type": "stream",
     "text": [
      "C:\\Users\\sidhanth\\anaconda3\\lib\\site-packages\\statsmodels\\tsa\\base\\tsa_model.py:581: ValueWarning: A date index has been provided, but it has no associated frequency information and so will be ignored when e.g. forecasting.\n",
      "  warnings.warn('A date index has been provided, but it has no'\n",
      "C:\\Users\\sidhanth\\anaconda3\\lib\\site-packages\\statsmodels\\tsa\\base\\tsa_model.py:581: ValueWarning: A date index has been provided, but it has no associated frequency information and so will be ignored when e.g. forecasting.\n",
      "  warnings.warn('A date index has been provided, but it has no'\n",
      "C:\\Users\\sidhanth\\anaconda3\\lib\\site-packages\\statsmodels\\tsa\\base\\tsa_model.py:581: ValueWarning: A date index has been provided, but it has no associated frequency information and so will be ignored when e.g. forecasting.\n",
      "  warnings.warn('A date index has been provided, but it has no'\n",
      "C:\\Users\\sidhanth\\anaconda3\\lib\\site-packages\\statsmodels\\tsa\\base\\tsa_model.py:376: ValueWarning: No supported index is available. Prediction results will be given with an integer index beginning at `start`.\n",
      "  warnings.warn('No supported index is available.'\n"
     ]
    },
    {
     "name": "stdout",
     "output_type": "stream",
     "text": [
      "0\n",
      "1\n",
      "2\n",
      "3\n",
      "4\n",
      "5\n",
      "6\n",
      "7\n",
      "8\n",
      "9\n",
      "10\n",
      "11\n",
      "12\n",
      "13\n",
      "14\n",
      "15\n",
      "16\n",
      "17\n",
      "18\n",
      "19\n",
      "20\n",
      "21\n",
      "22\n",
      "done\n"
     ]
    }
   ],
   "source": [
    "predictions = []\n",
    "history = train\n",
    "for i in range(0,len(test)):\n",
    "    model = ARIMA(history, order = (1,1,2))\n",
    "    model_fit = model.fit()\n",
    "    predictions.append(model_fit.forecast())\n",
    "    history = np.append(history ,test[i])\n",
    "    print(i)\n",
    "print('done')"
   ]
  },
  {
   "cell_type": "code",
   "execution_count": 62,
   "id": "2ccb7f9c",
   "metadata": {},
   "outputs": [],
   "source": [
    "df1 = pd.DataFrame(np.array(predictions) , columns = ['pred'])\n",
    "df2 = pd.DataFrame(np.array(test) , columns = ['test'])"
   ]
  },
  {
   "cell_type": "code",
   "execution_count": 63,
   "id": "fa08a8e6",
   "metadata": {},
   "outputs": [
    {
     "data": {
      "text/html": [
       "<div>\n",
       "<style scoped>\n",
       "    .dataframe tbody tr th:only-of-type {\n",
       "        vertical-align: middle;\n",
       "    }\n",
       "\n",
       "    .dataframe tbody tr th {\n",
       "        vertical-align: top;\n",
       "    }\n",
       "\n",
       "    .dataframe thead th {\n",
       "        text-align: right;\n",
       "    }\n",
       "</style>\n",
       "<table border=\"1\" class=\"dataframe\">\n",
       "  <thead>\n",
       "    <tr style=\"text-align: right;\">\n",
       "      <th></th>\n",
       "      <th>pred</th>\n",
       "      <th>test</th>\n",
       "    </tr>\n",
       "  </thead>\n",
       "  <tbody>\n",
       "    <tr>\n",
       "      <th>0</th>\n",
       "      <td>35695.628821</td>\n",
       "      <td>36364.90</td>\n",
       "    </tr>\n",
       "    <tr>\n",
       "      <th>1</th>\n",
       "      <td>36421.516887</td>\n",
       "      <td>36508.25</td>\n",
       "    </tr>\n",
       "    <tr>\n",
       "      <th>2</th>\n",
       "      <td>36497.750929</td>\n",
       "      <td>36197.15</td>\n",
       "    </tr>\n",
       "    <tr>\n",
       "      <th>3</th>\n",
       "      <td>36171.124797</td>\n",
       "      <td>35735.90</td>\n",
       "    </tr>\n",
       "    <tr>\n",
       "      <th>4</th>\n",
       "      <td>35719.803846</td>\n",
       "      <td>36618.40</td>\n",
       "    </tr>\n",
       "    <tr>\n",
       "      <th>5</th>\n",
       "      <td>36684.947753</td>\n",
       "      <td>37284.70</td>\n",
       "    </tr>\n",
       "    <tr>\n",
       "      <th>6</th>\n",
       "      <td>37287.509030</td>\n",
       "      <td>37082.45</td>\n",
       "    </tr>\n",
       "    <tr>\n",
       "      <th>7</th>\n",
       "      <td>37031.348390</td>\n",
       "      <td>37105.65</td>\n",
       "    </tr>\n",
       "    <tr>\n",
       "      <th>8</th>\n",
       "      <td>37102.655716</td>\n",
       "      <td>36925.25</td>\n",
       "    </tr>\n",
       "    <tr>\n",
       "      <th>9</th>\n",
       "      <td>36909.200277</td>\n",
       "      <td>36893.95</td>\n",
       "    </tr>\n",
       "    <tr>\n",
       "      <th>10</th>\n",
       "      <td>36898.276635</td>\n",
       "      <td>36789.55</td>\n",
       "    </tr>\n",
       "    <tr>\n",
       "      <th>11</th>\n",
       "      <td>36786.553107</td>\n",
       "      <td>36548.65</td>\n",
       "    </tr>\n",
       "    <tr>\n",
       "      <th>12</th>\n",
       "      <td>36541.777844</td>\n",
       "      <td>35618.65</td>\n",
       "    </tr>\n",
       "    <tr>\n",
       "      <th>13</th>\n",
       "      <td>35579.232186</td>\n",
       "      <td>34439.85</td>\n",
       "    </tr>\n",
       "    <tr>\n",
       "      <th>14</th>\n",
       "      <td>34404.237802</td>\n",
       "      <td>34607.85</td>\n",
       "    </tr>\n",
       "    <tr>\n",
       "      <th>15</th>\n",
       "      <td>34685.091701</td>\n",
       "      <td>35029.50</td>\n",
       "    </tr>\n",
       "    <tr>\n",
       "      <th>16</th>\n",
       "      <td>35073.661529</td>\n",
       "      <td>35191.15</td>\n",
       "    </tr>\n",
       "    <tr>\n",
       "      <th>17</th>\n",
       "      <td>35193.801644</td>\n",
       "      <td>34857.05</td>\n",
       "    </tr>\n",
       "    <tr>\n",
       "      <th>18</th>\n",
       "      <td>34826.501944</td>\n",
       "      <td>35057.90</td>\n",
       "    </tr>\n",
       "    <tr>\n",
       "      <th>19</th>\n",
       "      <td>35085.314528</td>\n",
       "      <td>35183.80</td>\n",
       "    </tr>\n",
       "    <tr>\n",
       "      <th>20</th>\n",
       "      <td>35184.703961</td>\n",
       "      <td>35045.40</td>\n",
       "    </tr>\n",
       "    <tr>\n",
       "      <th>21</th>\n",
       "      <td>35029.351838</td>\n",
       "      <td>35063.60</td>\n",
       "    </tr>\n",
       "    <tr>\n",
       "      <th>22</th>\n",
       "      <td>35069.393072</td>\n",
       "      <td>35481.70</td>\n",
       "    </tr>\n",
       "  </tbody>\n",
       "</table>\n",
       "</div>"
      ],
      "text/plain": [
       "            pred      test\n",
       "0   35695.628821  36364.90\n",
       "1   36421.516887  36508.25\n",
       "2   36497.750929  36197.15\n",
       "3   36171.124797  35735.90\n",
       "4   35719.803846  36618.40\n",
       "5   36684.947753  37284.70\n",
       "6   37287.509030  37082.45\n",
       "7   37031.348390  37105.65\n",
       "8   37102.655716  36925.25\n",
       "9   36909.200277  36893.95\n",
       "10  36898.276635  36789.55\n",
       "11  36786.553107  36548.65\n",
       "12  36541.777844  35618.65\n",
       "13  35579.232186  34439.85\n",
       "14  34404.237802  34607.85\n",
       "15  34685.091701  35029.50\n",
       "16  35073.661529  35191.15\n",
       "17  35193.801644  34857.05\n",
       "18  34826.501944  35057.90\n",
       "19  35085.314528  35183.80\n",
       "20  35184.703961  35045.40\n",
       "21  35029.351838  35063.60\n",
       "22  35069.393072  35481.70"
      ]
     },
     "execution_count": 63,
     "metadata": {},
     "output_type": "execute_result"
    }
   ],
   "source": [
    "pd.concat([df1,df2] , axis = 'columns')"
   ]
  },
  {
   "cell_type": "code",
   "execution_count": 255,
   "id": "c116dbfa",
   "metadata": {},
   "outputs": [],
   "source": [
    "banknifty = pd.read_csv('banknifty.csv')"
   ]
  },
  {
   "cell_type": "code",
   "execution_count": 256,
   "id": "fe51a127",
   "metadata": {},
   "outputs": [],
   "source": [
    "banknifty.index = banknifty.date"
   ]
  },
  {
   "cell_type": "code",
   "execution_count": 269,
   "id": "99921fd8",
   "metadata": {},
   "outputs": [],
   "source": [
    "shifted = banknifty.close.shift(1)\n",
    "shifted.dropna(inplace = True)\n",
    "shift = banknifty.close - shifted"
   ]
  },
  {
   "cell_type": "code",
   "execution_count": 272,
   "id": "d2be579a",
   "metadata": {},
   "outputs": [],
   "source": [
    "shift.dropna(inplace = True)"
   ]
  },
  {
   "cell_type": "code",
   "execution_count": 275,
   "id": "c806dd6c",
   "metadata": {},
   "outputs": [
    {
     "data": {
      "image/png": "[encoded data removed]",
      "text/plain": [
       "<Figure size 432x288 with 1 Axes>"
      ]
     },
     "execution_count": 275,
     "metadata": {},
     "output_type": "execute_result"
    },
    {
     "data": {
      "image/png": "[encoded data removed]",
      "text/plain": [
       "<Figure size 432x288 with 1 Axes>"
      ]
     },
     "metadata": {
      "needs_background": "light"
     },
     "output_type": "display_data"
    }
   ],
   "source": [
    "plot_acf(shift)"
   ]
  },
  {
   "cell_type": "code",
   "execution_count": 257,
   "id": "6ebed47c",
   "metadata": {},
   "outputs": [],
   "source": [
    "train = banknifty['2021-01':'2021-12']\n",
    "test = banknifty['2021-12':]"
   ]
  },
  {
   "cell_type": "code",
   "execution_count": 258,
   "id": "4806493f",
   "metadata": {},
   "outputs": [],
   "source": [
    "train = train['close']"
   ]
  },
  {
   "cell_type": "code",
   "execution_count": 259,
   "id": "a5a39755",
   "metadata": {},
   "outputs": [],
   "source": [
    "test = test['close']"
   ]
  },
  {
   "cell_type": "code",
   "execution_count": 276,
   "id": "b7520442",
   "metadata": {},
   "outputs": [
    {
     "name": "stderr",
     "output_type": "stream",
     "text": [
      "C:\\Users\\sidhanth\\anaconda3\\lib\\site-packages\\statsmodels\\base\\model.py:566: ConvergenceWarning: Maximum Likelihood optimization failed to converge. Check mle_retvals\n",
      "  warnings.warn(\"Maximum Likelihood optimization failed to \"\n",
      "C:\\Users\\sidhanth\\anaconda3\\lib\\site-packages\\statsmodels\\base\\model.py:566: ConvergenceWarning: Maximum Likelihood optimization failed to converge. Check mle_retvals\n",
      "  warnings.warn(\"Maximum Likelihood optimization failed to \"\n",
      "C:\\Users\\sidhanth\\anaconda3\\lib\\site-packages\\statsmodels\\base\\model.py:566: ConvergenceWarning: Maximum Likelihood optimization failed to converge. Check mle_retvals\n",
      "  warnings.warn(\"Maximum Likelihood optimization failed to \"\n",
      "C:\\Users\\sidhanth\\anaconda3\\lib\\site-packages\\statsmodels\\base\\model.py:566: ConvergenceWarning: Maximum Likelihood optimization failed to converge. Check mle_retvals\n",
      "  warnings.warn(\"Maximum Likelihood optimization failed to \"\n",
      "C:\\Users\\sidhanth\\anaconda3\\lib\\site-packages\\statsmodels\\base\\model.py:566: ConvergenceWarning: Maximum Likelihood optimization failed to converge. Check mle_retvals\n",
      "  warnings.warn(\"Maximum Likelihood optimization failed to \"\n",
      "C:\\Users\\sidhanth\\anaconda3\\lib\\site-packages\\statsmodels\\base\\model.py:566: ConvergenceWarning: Maximum Likelihood optimization failed to converge. Check mle_retvals\n",
      "  warnings.warn(\"Maximum Likelihood optimization failed to \"\n",
      "C:\\Users\\sidhanth\\anaconda3\\lib\\site-packages\\statsmodels\\base\\model.py:566: ConvergenceWarning: Maximum Likelihood optimization failed to converge. Check mle_retvals\n",
      "  warnings.warn(\"Maximum Likelihood optimization failed to \"\n"
     ]
    },
    {
     "name": "stdout",
     "output_type": "stream",
     "text": [
      "done\n"
     ]
    },
    {
     "name": "stderr",
     "output_type": "stream",
     "text": [
      "C:\\Users\\sidhanth\\anaconda3\\lib\\site-packages\\statsmodels\\base\\model.py:566: ConvergenceWarning: Maximum Likelihood optimization failed to converge. Check mle_retvals\n",
      "  warnings.warn(\"Maximum Likelihood optimization failed to \"\n"
     ]
    }
   ],
   "source": [
    "predictions = []\n",
    "history = train.values\n",
    "for i in range(0,len(test)):\n",
    "    model = ARIMA(history, order = (3,1,3))\n",
    "    model_fit = model.fit()\n",
    "    predictions.append(model_fit.forecast())\n",
    "    history = np.append(history ,test[i])\n",
    "print('done')"
   ]
  },
  {
   "cell_type": "code",
   "execution_count": 277,
   "id": "7bf913cd",
   "metadata": {},
   "outputs": [
    {
     "data": {
      "text/plain": [
       "[<matplotlib.lines.Line2D at 0x2aedfa512b0>]"
      ]
     },
     "execution_count": 277,
     "metadata": {},
     "output_type": "execute_result"
    },
    {
     "data": {
      "image/png": "[encoded data removed]",
      "text/plain": [
       "<Figure size 432x288 with 1 Axes>"
      ]
     },
     "metadata": {
      "needs_background": "light"
     },
     "output_type": "display_data"
    }
   ],
   "source": [
    "plt.plot(test)"
   ]
  },
  {
   "cell_type": "code",
   "execution_count": 278,
   "id": "8ac49f39",
   "metadata": {},
   "outputs": [
    {
     "data": {
      "text/plain": [
       "[<matplotlib.lines.Line2D at 0x2aede303cd0>]"
      ]
     },
     "execution_count": 278,
     "metadata": {},
     "output_type": "execute_result"
    },
    {
     "data": {
      "image/png": "[encoded data removed]",
      "text/plain": [
       "<Figure size 432x288 with 1 Axes>"
      ]
     },
     "metadata": {
      "needs_background": "light"
     },
     "output_type": "display_data"
    }
   ],
   "source": [
    "plt.plot(predictions)"
   ]
  },
  {
   "cell_type": "code",
   "execution_count": 140,
   "id": "a7306242",
   "metadata": {},
   "outputs": [
    {
     "data": {
      "text/plain": [
       "254"
      ]
     },
     "execution_count": 140,
     "metadata": {},
     "output_type": "execute_result"
    }
   ],
   "source": [
    "train.size"
   ]
  },
  {
   "cell_type": "code",
   "execution_count": 161,
   "id": "0c63f279",
   "metadata": {},
   "outputs": [
    {
     "name": "stderr",
     "output_type": "stream",
     "text": [
      "C:\\Users\\sidhanth\\anaconda3\\lib\\site-packages\\statsmodels\\tsa\\base\\tsa_model.py:581: ValueWarning: A date index has been provided, but it has no associated frequency information and so will be ignored when e.g. forecasting.\n",
      "  warnings.warn('A date index has been provided, but it has no'\n",
      "C:\\Users\\sidhanth\\anaconda3\\lib\\site-packages\\statsmodels\\tsa\\base\\tsa_model.py:581: ValueWarning: A date index has been provided, but it has no associated frequency information and so will be ignored when e.g. forecasting.\n",
      "  warnings.warn('A date index has been provided, but it has no'\n",
      "C:\\Users\\sidhanth\\anaconda3\\lib\\site-packages\\statsmodels\\tsa\\base\\tsa_model.py:581: ValueWarning: A date index has been provided, but it has no associated frequency information and so will be ignored when e.g. forecasting.\n",
      "  warnings.warn('A date index has been provided, but it has no'\n"
     ]
    },
    {
     "name": "stdout",
     "output_type": "stream",
     "text": [
      "done\n"
     ]
    },
    {
     "name": "stderr",
     "output_type": "stream",
     "text": [
      "C:\\Users\\sidhanth\\anaconda3\\lib\\site-packages\\statsmodels\\tsa\\base\\tsa_model.py:376: ValueWarning: No supported index is available. Prediction results will be given with an integer index beginning at `start`.\n",
      "  warnings.warn('No supported index is available.'\n"
     ]
    }
   ],
   "source": [
    "predictions = []\n",
    "history = train\n",
    "\n",
    "model = ARIMA(history, order = (3,1,3))\n",
    "model_fit = model.fit()\n",
    "predicted = model_fit.forecast(steps = 20)\n",
    "print('done')"
   ]
  },
  {
   "cell_type": "code",
   "execution_count": 162,
   "id": "d4e4cc76",
   "metadata": {},
   "outputs": [
    {
     "data": {
      "text/plain": [
       "[<matplotlib.lines.Line2D at 0x2aedd833340>]"
      ]
     },
     "execution_count": 162,
     "metadata": {},
     "output_type": "execute_result"
    },
    {
     "data": {
      "image/png": "[encoded data removed]",
      "text/plain": [
       "<Figure size 432x288 with 1 Axes>"
      ]
     },
     "metadata": {
      "needs_background": "light"
     },
     "output_type": "display_data"
    }
   ],
   "source": [
    "plt.plot(predicted)"
   ]
  },
  {
   "cell_type": "code",
   "execution_count": 92,
   "id": "67d03e29",
   "metadata": {},
   "outputs": [
    {
     "data": {
      "text/plain": [
       "date\n",
       "2021-12-01    745.35\n",
       "2021-12-02    766.25\n",
       "2021-12-03    751.80\n",
       "2021-12-06    737.15\n",
       "2021-12-07    743.70\n",
       "2021-12-08    757.55\n",
       "2021-12-09    759.75\n",
       "2021-12-10    761.35\n",
       "2021-12-13    762.60\n",
       "2021-12-14    756.05\n",
       "2021-12-15    775.10\n",
       "2021-12-16    764.45\n",
       "2021-12-17    768.95\n",
       "2021-12-20    763.95\n",
       "2021-12-21    778.55\n",
       "2021-12-22    797.50\n",
       "2021-12-23    792.45\n",
       "2021-12-24    785.40\n",
       "2021-12-27    794.10\n",
       "2021-12-28    815.10\n",
       "2021-12-29    838.80\n",
       "2021-12-30    834.45\n",
       "2021-12-31    845.70\n",
       "Name: close, dtype: float64"
      ]
     },
     "execution_count": 92,
     "metadata": {},
     "output_type": "execute_result"
    }
   ],
   "source": [
    "test"
   ]
  },
  {
   "cell_type": "code",
   "execution_count": 87,
   "id": "7ee47557",
   "metadata": {},
   "outputs": [
    {
     "data": {
      "text/plain": [
       "[<matplotlib.lines.Line2D at 0x2aedac84100>]"
      ]
     },
     "execution_count": 87,
     "metadata": {},
     "output_type": "execute_result"
    },
    {
     "data": {
      "image/png": "[encoded data removed]",
      "text/plain": [
       "<Figure size 432x288 with 1 Axes>"
      ]
     },
     "metadata": {
      "needs_background": "light"
     },
     "output_type": "display_data"
    }
   ],
   "source": [
    "plt.plot(predictions)"
   ]
  },
  {
   "cell_type": "code",
   "execution_count": 88,
   "id": "1201e077",
   "metadata": {},
   "outputs": [
    {
     "data": {
      "text/plain": [
       "[<matplotlib.lines.Line2D at 0x2aedb09bf70>]"
      ]
     },
     "execution_count": 88,
     "metadata": {},
     "output_type": "execute_result"
    },
    {
     "data": {
      "image/png": "[encoded data removed]",
      "text/plain": [
       "<Figure size 432x288 with 1 Axes>"
      ]
     },
     "metadata": {
      "needs_background": "light"
     },
     "output_type": "display_data"
    }
   ],
   "source": [
    "plt.plot(test)"
   ]
  }
 ],
 "metadata": {
  "kernelspec": {
   "display_name": "Python 3 (ipykernel)",
   "language": "python",
   "name": "python3"
  },
  "language_info": {
   "codemirror_mode": {
    "name": "ipython",
    "version": 3
   },
   "file_extension": ".py",
   "mimetype": "text/x-python",
   "name": "python",
   "nbconvert_exporter": "python",
   "pygments_lexer": "ipython3",
   "version": "3.12.4"
  }
 },
 "nbformat": 4,
 "nbformat_minor": 5
}
